{
  "nbformat": 4,
  "nbformat_minor": 0,
  "metadata": {
    "colab": {
      "provenance": []
    },
    "kernelspec": {
      "name": "python3",
      "display_name": "Python 3"
    },
    "language_info": {
      "name": "python"
    },
    "widgets": {
      "application/vnd.jupyter.widget-state+json": {
        "ca04d760a8134e6ea9cb8238a9d20500": {
          "model_module": "@jupyter-widgets/controls",
          "model_name": "HBoxModel",
          "model_module_version": "1.5.0",
          "state": {
            "_dom_classes": [],
            "_model_module": "@jupyter-widgets/controls",
            "_model_module_version": "1.5.0",
            "_model_name": "HBoxModel",
            "_view_count": null,
            "_view_module": "@jupyter-widgets/controls",
            "_view_module_version": "1.5.0",
            "_view_name": "HBoxView",
            "box_style": "",
            "children": [
              "IPY_MODEL_d08d880740ab452a92eff4853d0baa5b",
              "IPY_MODEL_b04e665f062441b9bd3764b3a88809a2",
              "IPY_MODEL_2151e4325c48481a8c5e8cc5fdbea428"
            ],
            "layout": "IPY_MODEL_6404d70e48ec4828935c7cc546f463d3"
          }
        },
        "d08d880740ab452a92eff4853d0baa5b": {
          "model_module": "@jupyter-widgets/controls",
          "model_name": "HTMLModel",
          "model_module_version": "1.5.0",
          "state": {
            "_dom_classes": [],
            "_model_module": "@jupyter-widgets/controls",
            "_model_module_version": "1.5.0",
            "_model_name": "HTMLModel",
            "_view_count": null,
            "_view_module": "@jupyter-widgets/controls",
            "_view_module_version": "1.5.0",
            "_view_name": "HTMLView",
            "description": "",
            "description_tooltip": null,
            "layout": "IPY_MODEL_dc8995027046470eb246f1ee0dc33d15",
            "placeholder": "​",
            "style": "IPY_MODEL_7cb9f97c566243bea022cf8618b8dd9d",
            "value": "yolox_l0.05.onnx: 100%"
          }
        },
        "b04e665f062441b9bd3764b3a88809a2": {
          "model_module": "@jupyter-widgets/controls",
          "model_name": "FloatProgressModel",
          "model_module_version": "1.5.0",
          "state": {
            "_dom_classes": [],
            "_model_module": "@jupyter-widgets/controls",
            "_model_module_version": "1.5.0",
            "_model_name": "FloatProgressModel",
            "_view_count": null,
            "_view_module": "@jupyter-widgets/controls",
            "_view_module_version": "1.5.0",
            "_view_name": "ProgressView",
            "bar_style": "success",
            "description": "",
            "description_tooltip": null,
            "layout": "IPY_MODEL_7fcc7d3b101242ecba26fa8bef35b11a",
            "max": 216625723,
            "min": 0,
            "orientation": "horizontal",
            "style": "IPY_MODEL_b10f486818424120859b7669357aa840",
            "value": 216625723
          }
        },
        "2151e4325c48481a8c5e8cc5fdbea428": {
          "model_module": "@jupyter-widgets/controls",
          "model_name": "HTMLModel",
          "model_module_version": "1.5.0",
          "state": {
            "_dom_classes": [],
            "_model_module": "@jupyter-widgets/controls",
            "_model_module_version": "1.5.0",
            "_model_name": "HTMLModel",
            "_view_count": null,
            "_view_module": "@jupyter-widgets/controls",
            "_view_module_version": "1.5.0",
            "_view_name": "HTMLView",
            "description": "",
            "description_tooltip": null,
            "layout": "IPY_MODEL_668fcf93690546d9bb1da9783cb072d2",
            "placeholder": "​",
            "style": "IPY_MODEL_15dd1883ea6c4469a827d3c80d3ca901",
            "value": " 217M/217M [00:01&lt;00:00, 208MB/s]"
          }
        },
        "6404d70e48ec4828935c7cc546f463d3": {
          "model_module": "@jupyter-widgets/base",
          "model_name": "LayoutModel",
          "model_module_version": "1.2.0",
          "state": {
            "_model_module": "@jupyter-widgets/base",
            "_model_module_version": "1.2.0",
            "_model_name": "LayoutModel",
            "_view_count": null,
            "_view_module": "@jupyter-widgets/base",
            "_view_module_version": "1.2.0",
            "_view_name": "LayoutView",
            "align_content": null,
            "align_items": null,
            "align_self": null,
            "border": null,
            "bottom": null,
            "display": null,
            "flex": null,
            "flex_flow": null,
            "grid_area": null,
            "grid_auto_columns": null,
            "grid_auto_flow": null,
            "grid_auto_rows": null,
            "grid_column": null,
            "grid_gap": null,
            "grid_row": null,
            "grid_template_areas": null,
            "grid_template_columns": null,
            "grid_template_rows": null,
            "height": null,
            "justify_content": null,
            "justify_items": null,
            "left": null,
            "margin": null,
            "max_height": null,
            "max_width": null,
            "min_height": null,
            "min_width": null,
            "object_fit": null,
            "object_position": null,
            "order": null,
            "overflow": null,
            "overflow_x": null,
            "overflow_y": null,
            "padding": null,
            "right": null,
            "top": null,
            "visibility": null,
            "width": null
          }
        },
        "dc8995027046470eb246f1ee0dc33d15": {
          "model_module": "@jupyter-widgets/base",
          "model_name": "LayoutModel",
          "model_module_version": "1.2.0",
          "state": {
            "_model_module": "@jupyter-widgets/base",
            "_model_module_version": "1.2.0",
            "_model_name": "LayoutModel",
            "_view_count": null,
            "_view_module": "@jupyter-widgets/base",
            "_view_module_version": "1.2.0",
            "_view_name": "LayoutView",
            "align_content": null,
            "align_items": null,
            "align_self": null,
            "border": null,
            "bottom": null,
            "display": null,
            "flex": null,
            "flex_flow": null,
            "grid_area": null,
            "grid_auto_columns": null,
            "grid_auto_flow": null,
            "grid_auto_rows": null,
            "grid_column": null,
            "grid_gap": null,
            "grid_row": null,
            "grid_template_areas": null,
            "grid_template_columns": null,
            "grid_template_rows": null,
            "height": null,
            "justify_content": null,
            "justify_items": null,
            "left": null,
            "margin": null,
            "max_height": null,
            "max_width": null,
            "min_height": null,
            "min_width": null,
            "object_fit": null,
            "object_position": null,
            "order": null,
            "overflow": null,
            "overflow_x": null,
            "overflow_y": null,
            "padding": null,
            "right": null,
            "top": null,
            "visibility": null,
            "width": null
          }
        },
        "7cb9f97c566243bea022cf8618b8dd9d": {
          "model_module": "@jupyter-widgets/controls",
          "model_name": "DescriptionStyleModel",
          "model_module_version": "1.5.0",
          "state": {
            "_model_module": "@jupyter-widgets/controls",
            "_model_module_version": "1.5.0",
            "_model_name": "DescriptionStyleModel",
            "_view_count": null,
            "_view_module": "@jupyter-widgets/base",
            "_view_module_version": "1.2.0",
            "_view_name": "StyleView",
            "description_width": ""
          }
        },
        "7fcc7d3b101242ecba26fa8bef35b11a": {
          "model_module": "@jupyter-widgets/base",
          "model_name": "LayoutModel",
          "model_module_version": "1.2.0",
          "state": {
            "_model_module": "@jupyter-widgets/base",
            "_model_module_version": "1.2.0",
            "_model_name": "LayoutModel",
            "_view_count": null,
            "_view_module": "@jupyter-widgets/base",
            "_view_module_version": "1.2.0",
            "_view_name": "LayoutView",
            "align_content": null,
            "align_items": null,
            "align_self": null,
            "border": null,
            "bottom": null,
            "display": null,
            "flex": null,
            "flex_flow": null,
            "grid_area": null,
            "grid_auto_columns": null,
            "grid_auto_flow": null,
            "grid_auto_rows": null,
            "grid_column": null,
            "grid_gap": null,
            "grid_row": null,
            "grid_template_areas": null,
            "grid_template_columns": null,
            "grid_template_rows": null,
            "height": null,
            "justify_content": null,
            "justify_items": null,
            "left": null,
            "margin": null,
            "max_height": null,
            "max_width": null,
            "min_height": null,
            "min_width": null,
            "object_fit": null,
            "object_position": null,
            "order": null,
            "overflow": null,
            "overflow_x": null,
            "overflow_y": null,
            "padding": null,
            "right": null,
            "top": null,
            "visibility": null,
            "width": null
          }
        },
        "b10f486818424120859b7669357aa840": {
          "model_module": "@jupyter-widgets/controls",
          "model_name": "ProgressStyleModel",
          "model_module_version": "1.5.0",
          "state": {
            "_model_module": "@jupyter-widgets/controls",
            "_model_module_version": "1.5.0",
            "_model_name": "ProgressStyleModel",
            "_view_count": null,
            "_view_module": "@jupyter-widgets/base",
            "_view_module_version": "1.2.0",
            "_view_name": "StyleView",
            "bar_color": null,
            "description_width": ""
          }
        },
        "668fcf93690546d9bb1da9783cb072d2": {
          "model_module": "@jupyter-widgets/base",
          "model_name": "LayoutModel",
          "model_module_version": "1.2.0",
          "state": {
            "_model_module": "@jupyter-widgets/base",
            "_model_module_version": "1.2.0",
            "_model_name": "LayoutModel",
            "_view_count": null,
            "_view_module": "@jupyter-widgets/base",
            "_view_module_version": "1.2.0",
            "_view_name": "LayoutView",
            "align_content": null,
            "align_items": null,
            "align_self": null,
            "border": null,
            "bottom": null,
            "display": null,
            "flex": null,
            "flex_flow": null,
            "grid_area": null,
            "grid_auto_columns": null,
            "grid_auto_flow": null,
            "grid_auto_rows": null,
            "grid_column": null,
            "grid_gap": null,
            "grid_row": null,
            "grid_template_areas": null,
            "grid_template_columns": null,
            "grid_template_rows": null,
            "height": null,
            "justify_content": null,
            "justify_items": null,
            "left": null,
            "margin": null,
            "max_height": null,
            "max_width": null,
            "min_height": null,
            "min_width": null,
            "object_fit": null,
            "object_position": null,
            "order": null,
            "overflow": null,
            "overflow_x": null,
            "overflow_y": null,
            "padding": null,
            "right": null,
            "top": null,
            "visibility": null,
            "width": null
          }
        },
        "15dd1883ea6c4469a827d3c80d3ca901": {
          "model_module": "@jupyter-widgets/controls",
          "model_name": "DescriptionStyleModel",
          "model_module_version": "1.5.0",
          "state": {
            "_model_module": "@jupyter-widgets/controls",
            "_model_module_version": "1.5.0",
            "_model_name": "DescriptionStyleModel",
            "_view_count": null,
            "_view_module": "@jupyter-widgets/base",
            "_view_module_version": "1.2.0",
            "_view_name": "StyleView",
            "description_width": ""
          }
        }
      }
    }
  },
  "cells": [
    {
      "cell_type": "code",
      "execution_count": null,
      "metadata": {
        "colab": {
          "base_uri": "https://localhost:8080/"
        },
        "id": "CjHFswdkhFLy",
        "outputId": "1ece0f1a-8042-4713-b51f-543ffb712559",
        "collapsed": true
      },
      "outputs": [
        {
          "output_type": "stream",
          "name": "stdout",
          "text": [
            "Selecting previously unselected package poppler-utils.\n",
            "(Reading database ... 123634 files and directories currently installed.)\n",
            "Preparing to unpack .../poppler-utils_22.02.0-2ubuntu0.5_amd64.deb ...\n",
            "Unpacking poppler-utils (22.02.0-2ubuntu0.5) ...\n",
            "Selecting previously unselected package tesseract-ocr-eng.\n",
            "Preparing to unpack .../tesseract-ocr-eng_1%3a4.00~git30-7274cfa-1.1_all.deb ...\n",
            "Unpacking tesseract-ocr-eng (1:4.00~git30-7274cfa-1.1) ...\n",
            "Selecting previously unselected package tesseract-ocr-osd.\n",
            "Preparing to unpack .../tesseract-ocr-osd_1%3a4.00~git30-7274cfa-1.1_all.deb ...\n",
            "Unpacking tesseract-ocr-osd (1:4.00~git30-7274cfa-1.1) ...\n",
            "Selecting previously unselected package tesseract-ocr.\n",
            "Preparing to unpack .../tesseract-ocr_4.1.1-2.1build1_amd64.deb ...\n",
            "Unpacking tesseract-ocr (4.1.1-2.1build1) ...\n",
            "Setting up tesseract-ocr-eng (1:4.00~git30-7274cfa-1.1) ...\n",
            "Setting up tesseract-ocr-osd (1:4.00~git30-7274cfa-1.1) ...\n",
            "Setting up poppler-utils (22.02.0-2ubuntu0.5) ...\n",
            "Setting up tesseract-ocr (4.1.1-2.1build1) ...\n",
            "Processing triggers for man-db (2.10.2-1) ...\n",
            "\u001b[2K   \u001b[90m━━━━━━━━━━━━━━━━━━━━━━━━━━━━━━━━━━━━━━━━\u001b[0m \u001b[32m4.5/4.5 MB\u001b[0m \u001b[31m66.0 MB/s\u001b[0m eta \u001b[36m0:00:00\u001b[0m\n",
            "\u001b[2K     \u001b[90m━━━━━━━━━━━━━━━━━━━━━━━━━━━━━━━━━━━━━━━━\u001b[0m \u001b[32m981.5/981.5 kB\u001b[0m \u001b[31m31.5 MB/s\u001b[0m eta \u001b[36m0:00:00\u001b[0m\n",
            "\u001b[?25h  Preparing metadata (setup.py) ... \u001b[?25l\u001b[?25hdone\n",
            "\u001b[2K     \u001b[90m━━━━━━━━━━━━━━━━━━━━━━━━━━━━━━━━━━━━━━━━\u001b[0m \u001b[32m149.4/149.4 kB\u001b[0m \u001b[31m10.2 MB/s\u001b[0m eta \u001b[36m0:00:00\u001b[0m\n",
            "\u001b[2K     \u001b[90m━━━━━━━━━━━━━━━━━━━━━━━━━━━━━━━━━━━━━━━━\u001b[0m \u001b[32m117.0/117.0 kB\u001b[0m \u001b[31m11.0 MB/s\u001b[0m eta \u001b[36m0:00:00\u001b[0m\n",
            "\u001b[?25h  Preparing metadata (setup.py) ... \u001b[?25l\u001b[?25hdone\n",
            "\u001b[2K     \u001b[90m━━━━━━━━━━━━━━━━━━━━━━━━━━━━━━━━━━━━━━━━\u001b[0m \u001b[32m42.2/42.2 kB\u001b[0m \u001b[31m3.3 MB/s\u001b[0m eta \u001b[36m0:00:00\u001b[0m\n",
            "\u001b[?25h  Preparing metadata (setup.py) ... \u001b[?25l\u001b[?25hdone\n",
            "\u001b[2K     \u001b[90m━━━━━━━━━━━━━━━━━━━━━━━━━━━━━━━━━━━━━━━━\u001b[0m \u001b[32m42.5/42.5 kB\u001b[0m \u001b[31m2.6 MB/s\u001b[0m eta \u001b[36m0:00:00\u001b[0m\n",
            "\u001b[2K     \u001b[90m━━━━━━━━━━━━━━━━━━━━━━━━━━━━━━━━━━━━━━━━\u001b[0m \u001b[32m48.2/48.2 kB\u001b[0m \u001b[31m4.0 MB/s\u001b[0m eta \u001b[36m0:00:00\u001b[0m\n",
            "\u001b[2K   \u001b[90m━━━━━━━━━━━━━━━━━━━━━━━━━━━━━━━━━━━━━━━━\u001b[0m \u001b[32m48.4/48.4 kB\u001b[0m \u001b[31m3.8 MB/s\u001b[0m eta \u001b[36m0:00:00\u001b[0m\n",
            "\u001b[2K   \u001b[90m━━━━━━━━━━━━━━━━━━━━━━━━━━━━━━━━━━━━━━━━\u001b[0m \u001b[32m244.3/244.3 kB\u001b[0m \u001b[31m17.8 MB/s\u001b[0m eta \u001b[36m0:00:00\u001b[0m\n",
            "\u001b[2K   \u001b[90m━━━━━━━━━━━━━━━━━━━━━━━━━━━━━━━━━━━━━━━━\u001b[0m \u001b[32m472.8/472.8 kB\u001b[0m \u001b[31m29.6 MB/s\u001b[0m eta \u001b[36m0:00:00\u001b[0m\n",
            "\u001b[2K   \u001b[90m━━━━━━━━━━━━━━━━━━━━━━━━━━━━━━━━━━━━━━━━\u001b[0m \u001b[32m112.5/112.5 kB\u001b[0m \u001b[31m9.1 MB/s\u001b[0m eta \u001b[36m0:00:00\u001b[0m\n",
            "\u001b[2K   \u001b[90m━━━━━━━━━━━━━━━━━━━━━━━━━━━━━━━━━━━━━━━━\u001b[0m \u001b[32m586.9/586.9 kB\u001b[0m \u001b[31m29.8 MB/s\u001b[0m eta \u001b[36m0:00:00\u001b[0m\n",
            "\u001b[2K   \u001b[90m━━━━━━━━━━━━━━━━━━━━━━━━━━━━━━━━━━━━━━━━\u001b[0m \u001b[32m514.6/514.6 kB\u001b[0m \u001b[31m27.5 MB/s\u001b[0m eta \u001b[36m0:00:00\u001b[0m\n",
            "\u001b[2K   \u001b[90m━━━━━━━━━━━━━━━━━━━━━━━━━━━━━━━━━━━━━━━━\u001b[0m \u001b[32m16.0/16.0 MB\u001b[0m \u001b[31m76.0 MB/s\u001b[0m eta \u001b[36m0:00:00\u001b[0m\n",
            "\u001b[2K   \u001b[90m━━━━━━━━━━━━━━━━━━━━━━━━━━━━━━━━━━━━━━━━\u001b[0m \u001b[32m1.2/1.2 MB\u001b[0m \u001b[31m51.2 MB/s\u001b[0m eta \u001b[36m0:00:00\u001b[0m\n",
            "\u001b[2K   \u001b[90m━━━━━━━━━━━━━━━━━━━━━━━━━━━━━━━━━━━━━━━━\u001b[0m \u001b[32m2.4/2.4 MB\u001b[0m \u001b[31m65.6 MB/s\u001b[0m eta \u001b[36m0:00:00\u001b[0m\n",
            "\u001b[2K   \u001b[90m━━━━━━━━━━━━━━━━━━━━━━━━━━━━━━━━━━━━━━━━\u001b[0m \u001b[32m298.0/298.0 kB\u001b[0m \u001b[31m18.8 MB/s\u001b[0m eta \u001b[36m0:00:00\u001b[0m\n",
            "\u001b[2K   \u001b[90m━━━━━━━━━━━━━━━━━━━━━━━━━━━━━━━━━━━━━━━━\u001b[0m \u001b[32m274.9/274.9 kB\u001b[0m \u001b[31m17.1 MB/s\u001b[0m eta \u001b[36m0:00:00\u001b[0m\n",
            "\u001b[2K   \u001b[90m━━━━━━━━━━━━━━━━━━━━━━━━━━━━━━━━━━━━━━━━\u001b[0m \u001b[32m3.1/3.1 MB\u001b[0m \u001b[31m78.0 MB/s\u001b[0m eta \u001b[36m0:00:00\u001b[0m\n",
            "\u001b[2K   \u001b[90m━━━━━━━━━━━━━━━━━━━━━━━━━━━━━━━━━━━━━━━━\u001b[0m \u001b[32m1.7/1.7 MB\u001b[0m \u001b[31m54.4 MB/s\u001b[0m eta \u001b[36m0:00:00\u001b[0m\n",
            "\u001b[2K   \u001b[90m━━━━━━━━━━━━━━━━━━━━━━━━━━━━━━━━━━━━━━━━\u001b[0m \u001b[32m62.9/62.9 kB\u001b[0m \u001b[31m4.3 MB/s\u001b[0m eta \u001b[36m0:00:00\u001b[0m\n",
            "\u001b[2K   \u001b[90m━━━━━━━━━━━━━━━━━━━━━━━━━━━━━━━━━━━━━━━━\u001b[0m \u001b[32m48.9/48.9 kB\u001b[0m \u001b[31m3.2 MB/s\u001b[0m eta \u001b[36m0:00:00\u001b[0m\n",
            "\u001b[2K   \u001b[90m━━━━━━━━━━━━━━━━━━━━━━━━━━━━━━━━━━━━━━━━\u001b[0m \u001b[32m79.5/79.5 kB\u001b[0m \u001b[31m5.9 MB/s\u001b[0m eta \u001b[36m0:00:00\u001b[0m\n",
            "\u001b[2K   \u001b[90m━━━━━━━━━━━━━━━━━━━━━━━━━━━━━━━━━━━━━━━━\u001b[0m \u001b[32m13.3/13.3 MB\u001b[0m \u001b[31m81.0 MB/s\u001b[0m eta \u001b[36m0:00:00\u001b[0m\n",
            "\u001b[2K   \u001b[90m━━━━━━━━━━━━━━━━━━━━━━━━━━━━━━━━━━━━━━━━\u001b[0m \u001b[32m434.9/434.9 kB\u001b[0m \u001b[31m25.9 MB/s\u001b[0m eta \u001b[36m0:00:00\u001b[0m\n",
            "\u001b[2K   \u001b[90m━━━━━━━━━━━━━━━━━━━━━━━━━━━━━━━━━━━━━━━━\u001b[0m \u001b[32m2.1/2.1 MB\u001b[0m \u001b[31m67.9 MB/s\u001b[0m eta \u001b[36m0:00:00\u001b[0m\n",
            "\u001b[2K   \u001b[90m━━━━━━━━━━━━━━━━━━━━━━━━━━━━━━━━━━━━━━━━\u001b[0m \u001b[32m159.9/159.9 kB\u001b[0m \u001b[31m10.6 MB/s\u001b[0m eta \u001b[36m0:00:00\u001b[0m\n",
            "\u001b[2K   \u001b[90m━━━━━━━━━━━━━━━━━━━━━━━━━━━━━━━━━━━━━━━━\u001b[0m \u001b[32m19.2/19.2 MB\u001b[0m \u001b[31m74.6 MB/s\u001b[0m eta \u001b[36m0:00:00\u001b[0m\n",
            "\u001b[2K   \u001b[90m━━━━━━━━━━━━━━━━━━━━━━━━━━━━━━━━━━━━━━━━\u001b[0m \u001b[32m114.6/114.6 kB\u001b[0m \u001b[31m10.6 MB/s\u001b[0m eta \u001b[36m0:00:00\u001b[0m\n",
            "\u001b[2K   \u001b[90m━━━━━━━━━━━━━━━━━━━━━━━━━━━━━━━━━━━━━━━━\u001b[0m \u001b[32m46.0/46.0 kB\u001b[0m \u001b[31m3.4 MB/s\u001b[0m eta \u001b[36m0:00:00\u001b[0m\n",
            "\u001b[2K   \u001b[90m━━━━━━━━━━━━━━━━━━━━━━━━━━━━━━━━━━━━━━━━\u001b[0m \u001b[32m59.5/59.5 kB\u001b[0m \u001b[31m5.1 MB/s\u001b[0m eta \u001b[36m0:00:00\u001b[0m\n",
            "\u001b[2K   \u001b[90m━━━━━━━━━━━━━━━━━━━━━━━━━━━━━━━━━━━━━━━━\u001b[0m \u001b[32m5.6/5.6 MB\u001b[0m \u001b[31m92.7 MB/s\u001b[0m eta \u001b[36m0:00:00\u001b[0m\n",
            "\u001b[2K   \u001b[90m━━━━━━━━━━━━━━━━━━━━━━━━━━━━━━━━━━━━━━━━\u001b[0m \u001b[32m86.8/86.8 kB\u001b[0m \u001b[31m6.8 MB/s\u001b[0m eta \u001b[36m0:00:00\u001b[0m\n",
            "\u001b[2K   \u001b[90m━━━━━━━━━━━━━━━━━━━━━━━━━━━━━━━━━━━━━━━━\u001b[0m \u001b[32m2.9/2.9 MB\u001b[0m \u001b[31m76.7 MB/s\u001b[0m eta \u001b[36m0:00:00\u001b[0m\n",
            "\u001b[?25h  Building wheel for langdetect (setup.py) ... \u001b[?25l\u001b[?25hdone\n",
            "  Building wheel for antlr4-python3-runtime (setup.py) ... \u001b[?25l\u001b[?25hdone\n",
            "  Building wheel for iopath (setup.py) ... \u001b[?25l\u001b[?25hdone\n"
          ]
        }
      ],
      "source": [
        "!apt-get -qq install poppler-utils tesseract-ocr\n",
        "%pip install -q --user --upgrade pillow\n",
        "%pip install -q --upgrade unstructured[\"all-docs\"]"
      ]
    },
    {
      "cell_type": "code",
      "source": [
        "from unstructured.partition.pdf import partition_pdf\n",
        "from unstructured.partition.auto import partition"
      ],
      "metadata": {
        "id": "vGJrrM6RmUXo"
      },
      "execution_count": null,
      "outputs": []
    },
    {
      "cell_type": "code",
      "source": [
        "# Downloading some data\n",
        "!wget 'https://s21.q4cdn.com/399680738/files/doc_news/Meta-Reports-Second-Quarter-2024-Results-2024.pdf' -O './tables.pdf'"
      ],
      "metadata": {
        "colab": {
          "base_uri": "https://localhost:8080/"
        },
        "id": "qpwIugECmyTb",
        "outputId": "179be379-823a-4671-c7e5-2d777020abac"
      },
      "execution_count": null,
      "outputs": [
        {
          "output_type": "stream",
          "name": "stdout",
          "text": [
            "--2025-01-06 05:16:29--  https://s21.q4cdn.com/399680738/files/doc_news/Meta-Reports-Second-Quarter-2024-Results-2024.pdf\n",
            "Resolving s21.q4cdn.com (s21.q4cdn.com)... 68.70.205.4, 68.70.205.3, 68.70.205.2, ...\n",
            "Connecting to s21.q4cdn.com (s21.q4cdn.com)|68.70.205.4|:443... connected.\n",
            "HTTP request sent, awaiting response... 200 OK\n",
            "Length: 195613 (191K) [application/pdf]\n",
            "Saving to: ‘./tables.pdf’\n",
            "\n",
            "\r./tables.pdf          0%[                    ]       0  --.-KB/s               \r./tables.pdf        100%[===================>] 191.03K  --.-KB/s    in 0.03s   \n",
            "\n",
            "2025-01-06 05:16:30 (6.26 MB/s) - ‘./tables.pdf’ saved [195613/195613]\n",
            "\n"
          ]
        }
      ]
    },
    {
      "cell_type": "code",
      "source": [
        "elements=partition_pdf(\n",
        "    filename=\"./tables.pdf\",\n",
        "    strategy=\"hi_res\",\n",
        "    extract_images_in_pdf=True,\n",
        "    extract_image_block_types=[\"Image\", \"Table\"],\n",
        "    extract_image_block_to_payload=False,\n",
        "    extract_image_block_output_dir=\"extracted_data\"\n",
        "  )"
      ],
      "metadata": {
        "colab": {
          "base_uri": "https://localhost:8080/",
          "height": 49,
          "referenced_widgets": [
            "ca04d760a8134e6ea9cb8238a9d20500",
            "d08d880740ab452a92eff4853d0baa5b",
            "b04e665f062441b9bd3764b3a88809a2",
            "2151e4325c48481a8c5e8cc5fdbea428",
            "6404d70e48ec4828935c7cc546f463d3",
            "dc8995027046470eb246f1ee0dc33d15",
            "7cb9f97c566243bea022cf8618b8dd9d",
            "7fcc7d3b101242ecba26fa8bef35b11a",
            "b10f486818424120859b7669357aa840",
            "668fcf93690546d9bb1da9783cb072d2",
            "15dd1883ea6c4469a827d3c80d3ca901"
          ]
        },
        "id": "Cs9FCo_Oq1sT",
        "outputId": "b3f1f8e0-b2a8-4f35-b7ad-e4274e6535a7"
      },
      "execution_count": null,
      "outputs": [
        {
          "output_type": "display_data",
          "data": {
            "text/plain": [
              "yolox_l0.05.onnx:   0%|          | 0.00/217M [00:00<?, ?B/s]"
            ],
            "application/vnd.jupyter.widget-view+json": {
              "version_major": 2,
              "version_minor": 0,
              "model_id": "ca04d760a8134e6ea9cb8238a9d20500"
            }
          },
          "metadata": {}
        }
      ]
    },
    {
      "cell_type": "code",
      "source": [
        "elements"
      ],
      "metadata": {
        "colab": {
          "base_uri": "https://localhost:8080/"
        },
        "collapsed": true,
        "id": "FUc24gBirGST",
        "outputId": "55c973e2-75d6-41dd-87a5-fa8d8c667b37"
      },
      "execution_count": null,
      "outputs": [
        {
          "output_type": "execute_result",
          "data": {
            "text/plain": [
              "[<unstructured.documents.elements.Image at 0x7b310fd33b50>,\n",
              " <unstructured.documents.elements.Title at 0x7b310f94ac80>,\n",
              " <unstructured.documents.elements.Title at 0x7b310fd33be0>,\n",
              " <unstructured.documents.elements.NarrativeText at 0x7b310fd32b00>,\n",
              " <unstructured.documents.elements.NarrativeText at 0x7b310fd32230>,\n",
              " <unstructured.documents.elements.Title at 0x7b310f9482e0>,\n",
              " <unstructured.documents.elements.Table at 0x7b310fd32c20>,\n",
              " <unstructured.documents.elements.Title at 0x7b310f94a230>,\n",
              " <unstructured.documents.elements.ListItem at 0x7b310fd32950>,\n",
              " <unstructured.documents.elements.ListItem at 0x7b310fd32800>,\n",
              " <unstructured.documents.elements.Title at 0x7b310f94a890>,\n",
              " <unstructured.documents.elements.Title at 0x7b310f94aec0>,\n",
              " <unstructured.documents.elements.NarrativeText at 0x7b310f948a00>,\n",
              " <unstructured.documents.elements.ListItem at 0x7b310fd32d70>,\n",
              " <unstructured.documents.elements.Title at 0x7b310f94af80>,\n",
              " <unstructured.documents.elements.NarrativeText at 0x7b310fd323e0>,\n",
              " <unstructured.documents.elements.Text at 0x7b310f94b760>,\n",
              " <unstructured.documents.elements.NarrativeText at 0x7b310f94b010>,\n",
              " <unstructured.documents.elements.ListItem at 0x7b310f8a3a60>,\n",
              " <unstructured.documents.elements.ListItem at 0x7b310f8a3b80>,\n",
              " <unstructured.documents.elements.ListItem at 0x7b310f8a3be0>,\n",
              " <unstructured.documents.elements.Title at 0x7b310f94a3b0>,\n",
              " <unstructured.documents.elements.NarrativeText at 0x7b310f9495d0>,\n",
              " <unstructured.documents.elements.Title at 0x7b310f949300>,\n",
              " <unstructured.documents.elements.NarrativeText at 0x7b310f8a0f10>,\n",
              " <unstructured.documents.elements.NarrativeText at 0x7b310f8a1420>,\n",
              " <unstructured.documents.elements.NarrativeText at 0x7b310f8a15d0>,\n",
              " <unstructured.documents.elements.NarrativeText at 0x7b310f8a19c0>,\n",
              " <unstructured.documents.elements.NarrativeText at 0x7b310f949ff0>,\n",
              " <unstructured.documents.elements.NarrativeText at 0x7b310f8a0280>,\n",
              " <unstructured.documents.elements.Title at 0x7b310f94ab60>,\n",
              " <unstructured.documents.elements.NarrativeText at 0x7b310f94bfa0>,\n",
              " <unstructured.documents.elements.NarrativeText at 0x7b310f8a1ae0>,\n",
              " <unstructured.documents.elements.NarrativeText at 0x7b310f8a1540>,\n",
              " <unstructured.documents.elements.Title at 0x7b310f94bb20>,\n",
              " <unstructured.documents.elements.NarrativeText at 0x7b310f8a1780>,\n",
              " <unstructured.documents.elements.Title at 0x7b310f949240>,\n",
              " <unstructured.documents.elements.NarrativeText at 0x7b310f8a2d40>,\n",
              " <unstructured.documents.elements.Title at 0x7b310f94a020>,\n",
              " <unstructured.documents.elements.Title at 0x7b310f9494e0>,\n",
              " <unstructured.documents.elements.Title at 0x7b310f949ae0>,\n",
              " <unstructured.documents.elements.NarrativeText at 0x7b310f8a11e0>,\n",
              " <unstructured.documents.elements.NarrativeText at 0x7b310f8a36a0>,\n",
              " <unstructured.documents.elements.Title at 0x7b310f94ba90>,\n",
              " <unstructured.documents.elements.NarrativeText at 0x7b310fd62740>,\n",
              " <unstructured.documents.elements.NarrativeText at 0x7b310fd639a0>,\n",
              " <unstructured.documents.elements.NarrativeText at 0x7b310fd60460>,\n",
              " <unstructured.documents.elements.NarrativeText at 0x7b310fd634c0>,\n",
              " <unstructured.documents.elements.Title at 0x7b310f94a9b0>,\n",
              " <unstructured.documents.elements.NarrativeText at 0x7b310fd61e10>,\n",
              " <unstructured.documents.elements.NarrativeText at 0x7b310f94a800>,\n",
              " <unstructured.documents.elements.NarrativeText at 0x7b310fd60df0>,\n",
              " <unstructured.documents.elements.NarrativeText at 0x7b310f948100>,\n",
              " <unstructured.documents.elements.NarrativeText at 0x7b310fd60100>,\n",
              " <unstructured.documents.elements.NarrativeText at 0x7b310fd63f40>,\n",
              " <unstructured.documents.elements.NarrativeText at 0x7b310fd61ea0>,\n",
              " <unstructured.documents.elements.Title at 0x7b310fd60130>,\n",
              " <unstructured.documents.elements.Title at 0x7b310fd61ba0>,\n",
              " <unstructured.documents.elements.Title at 0x7b310fd629b0>,\n",
              " <unstructured.documents.elements.NarrativeText at 0x7b310fd630a0>,\n",
              " <unstructured.documents.elements.Text at 0x7b310f9480d0>,\n",
              " <unstructured.documents.elements.Table at 0x7b310fd630d0>,\n",
              " <unstructured.documents.elements.Text at 0x7b310f94a7d0>,\n",
              " <unstructured.documents.elements.Text at 0x7b310f94ada0>,\n",
              " <unstructured.documents.elements.Text at 0x7b310f94ad40>,\n",
              " <unstructured.documents.elements.Text at 0x7b310f948190>,\n",
              " <unstructured.documents.elements.Text at 0x7b310f948d00>,\n",
              " <unstructured.documents.elements.Text at 0x7b310f94b130>,\n",
              " <unstructured.documents.elements.Text at 0x7b310f949d80>,\n",
              " <unstructured.documents.elements.Text at 0x7b310f949180>,\n",
              " <unstructured.documents.elements.Text at 0x7b310f94a410>,\n",
              " <unstructured.documents.elements.Text at 0x7b310f94b370>,\n",
              " <unstructured.documents.elements.Text at 0x7b310f949360>,\n",
              " <unstructured.documents.elements.Title at 0x7b310faaa530>,\n",
              " <unstructured.documents.elements.Table at 0x7b310fc77220>,\n",
              " <unstructured.documents.elements.Text at 0x7b310faa95a0>,\n",
              " <unstructured.documents.elements.Text at 0x7b310faa84c0>,\n",
              " <unstructured.documents.elements.Text at 0x7b310faa8280>,\n",
              " <unstructured.documents.elements.Text at 0x7b310faab580>,\n",
              " <unstructured.documents.elements.Text at 0x7b310faa8e80>,\n",
              " <unstructured.documents.elements.Text at 0x7b310faabf10>,\n",
              " <unstructured.documents.elements.Title at 0x7b310faa8d30>,\n",
              " <unstructured.documents.elements.Text at 0x7b310faa8ee0>,\n",
              " <unstructured.documents.elements.NarrativeText at 0x7b310facd090>,\n",
              " <unstructured.documents.elements.Title at 0x7b310faccbb0>,\n",
              " <unstructured.documents.elements.Title at 0x7b310face260>,\n",
              " <unstructured.documents.elements.NarrativeText at 0x7b310facea10>,\n",
              " <unstructured.documents.elements.Title at 0x7b310facca90>,\n",
              " <unstructured.documents.elements.Table at 0x7b310facf160>,\n",
              " <unstructured.documents.elements.Title at 0x7b310faa90c0>,\n",
              " <unstructured.documents.elements.Text at 0x7b310faaa230>,\n",
              " <unstructured.documents.elements.Text at 0x7b310faa8b50>,\n",
              " <unstructured.documents.elements.Table at 0x7b310facd2d0>,\n",
              " <unstructured.documents.elements.NarrativeText at 0x7b310faa8c10>,\n",
              " <unstructured.documents.elements.NarrativeText at 0x7b310faa8df0>,\n",
              " <unstructured.documents.elements.Title at 0x7b310faa8f10>,\n",
              " <unstructured.documents.elements.Title at 0x7b310faa8d90>,\n",
              " <unstructured.documents.elements.Title at 0x7b310facc130>,\n",
              " <unstructured.documents.elements.Title at 0x7b310facd120>,\n",
              " <unstructured.documents.elements.NarrativeText at 0x7b310faccbe0>,\n",
              " <unstructured.documents.elements.Table at 0x7b310facf340>,\n",
              " <unstructured.documents.elements.Text at 0x7b310faa8f70>,\n",
              " <unstructured.documents.elements.Text at 0x7b310faa9210>,\n",
              " <unstructured.documents.elements.Text at 0x7b310faa8250>,\n",
              " <unstructured.documents.elements.Text at 0x7b310faa9660>,\n",
              " <unstructured.documents.elements.Text at 0x7b310faa9810>,\n",
              " <unstructured.documents.elements.Text at 0x7b310faa8970>,\n",
              " <unstructured.documents.elements.Text at 0x7b310faaaef0>,\n",
              " <unstructured.documents.elements.Text at 0x7b310faa98a0>,\n",
              " <unstructured.documents.elements.Text at 0x7b310faaafb0>,\n",
              " <unstructured.documents.elements.Text at 0x7b310faab730>,\n",
              " <unstructured.documents.elements.Text at 0x7b310faabd00>,\n",
              " <unstructured.documents.elements.Text at 0x7b310faab190>,\n",
              " <unstructured.documents.elements.Text at 0x7b310faa8910>,\n",
              " <unstructured.documents.elements.Text at 0x7b310faaba30>,\n",
              " <unstructured.documents.elements.Text at 0x7b310faaaec0>,\n",
              " <unstructured.documents.elements.Text at 0x7b310faa8190>,\n",
              " <unstructured.documents.elements.Text at 0x7b310faabfa0>,\n",
              " <unstructured.documents.elements.Text at 0x7b310faaa110>,\n",
              " <unstructured.documents.elements.Text at 0x7b310faaa170>,\n",
              " <unstructured.documents.elements.Text at 0x7b310faaa8c0>,\n",
              " <unstructured.documents.elements.Text at 0x7b310faaa800>,\n",
              " <unstructured.documents.elements.Text at 0x7b310faaa680>,\n",
              " <unstructured.documents.elements.Text at 0x7b310faa8880>,\n",
              " <unstructured.documents.elements.Text at 0x7b310faaa020>,\n",
              " <unstructured.documents.elements.Text at 0x7b310faa9ab0>,\n",
              " <unstructured.documents.elements.Text at 0x7b310faa9c00>,\n",
              " <unstructured.documents.elements.Text at 0x7b310faabc40>,\n",
              " <unstructured.documents.elements.Text at 0x7b310faab820>,\n",
              " <unstructured.documents.elements.Text at 0x7b310faaa2f0>,\n",
              " <unstructured.documents.elements.Text at 0x7b310faa9ff0>,\n",
              " <unstructured.documents.elements.NarrativeText at 0x7b310faaa9b0>,\n",
              " <unstructured.documents.elements.Text at 0x7b310faaa3e0>,\n",
              " <unstructured.documents.elements.Text at 0x7b310faa99f0>,\n",
              " <unstructured.documents.elements.Text at 0x7b310faaa920>,\n",
              " <unstructured.documents.elements.Text at 0x7b310faaa6b0>,\n",
              " <unstructured.documents.elements.NarrativeText at 0x7b310faaa980>,\n",
              " <unstructured.documents.elements.Table at 0x7b310f9490c0>,\n",
              " <unstructured.documents.elements.Text at 0x7b310faa98d0>,\n",
              " <unstructured.documents.elements.Text at 0x7b310faa91b0>,\n",
              " <unstructured.documents.elements.Text at 0x7b310faaae60>,\n",
              " <unstructured.documents.elements.Text at 0x7b310faa8940>,\n",
              " <unstructured.documents.elements.Title at 0x7b3112ee3d90>,\n",
              " <unstructured.documents.elements.Title at 0x7b3112ee35e0>,\n",
              " <unstructured.documents.elements.NarrativeText at 0x7b3112ee1570>,\n",
              " <unstructured.documents.elements.Title at 0x7b3112ee3d00>,\n",
              " <unstructured.documents.elements.Text at 0x7b310faaaa40>,\n",
              " <unstructured.documents.elements.Table at 0x7b3112ee1cc0>,\n",
              " <unstructured.documents.elements.Text at 0x7b310faab400>,\n",
              " <unstructured.documents.elements.Text at 0x7b310faa9b70>,\n",
              " <unstructured.documents.elements.Text at 0x7b310faa9780>,\n",
              " <unstructured.documents.elements.Text at 0x7b310faabf70>,\n",
              " <unstructured.documents.elements.Title at 0x7b310faab910>,\n",
              " <unstructured.documents.elements.NarrativeText at 0x7b310faab7c0>,\n",
              " <unstructured.documents.elements.NarrativeText at 0x7b310faa9480>,\n",
              " <unstructured.documents.elements.Title at 0x7b310faabb20>,\n",
              " <unstructured.documents.elements.Title at 0x7b310faaa5f0>,\n",
              " <unstructured.documents.elements.Title at 0x7b310faab280>,\n",
              " <unstructured.documents.elements.Text at 0x7b310faab8e0>,\n",
              " <unstructured.documents.elements.Text at 0x7b310faaafe0>,\n",
              " <unstructured.documents.elements.Text at 0x7b310faabac0>,\n",
              " <unstructured.documents.elements.Text at 0x7b310faa9a50>,\n",
              " <unstructured.documents.elements.Text at 0x7b310faa86a0>,\n",
              " <unstructured.documents.elements.NarrativeText at 0x7b310faa9f60>,\n",
              " <unstructured.documents.elements.Table at 0x7b310faaa650>,\n",
              " <unstructured.documents.elements.Title at 0x7b310faaa4a0>,\n",
              " <unstructured.documents.elements.Title at 0x7b310faaaa10>,\n",
              " <unstructured.documents.elements.Title at 0x7b310faaac20>,\n",
              " <unstructured.documents.elements.Text at 0x7b310faaacb0>,\n",
              " <unstructured.documents.elements.Table at 0x7b310faaab60>,\n",
              " <unstructured.documents.elements.Title at 0x7b310faa8430>,\n",
              " <unstructured.documents.elements.Text at 0x7b310faa87c0>,\n",
              " <unstructured.documents.elements.Text at 0x7b310faabdc0>,\n",
              " <unstructured.documents.elements.Title at 0x7b310faaa290>,\n",
              " <unstructured.documents.elements.Text at 0x7b310faa9f00>,\n",
              " <unstructured.documents.elements.Text at 0x7b310faa96c0>,\n",
              " <unstructured.documents.elements.Text at 0x7b310f8a3f40>,\n",
              " <unstructured.documents.elements.Title at 0x7b310f8a1fc0>,\n",
              " <unstructured.documents.elements.Text at 0x7b310f8a0c70>,\n",
              " <unstructured.documents.elements.NarrativeText at 0x7b310fc88130>,\n",
              " <unstructured.documents.elements.Title at 0x7b310f8a09a0>]"
            ]
          },
          "metadata": {},
          "execution_count": 5
        }
      ]
    },
    {
      "cell_type": "code",
      "source": [
        "header = []\n",
        "footer = []\n",
        "title = []\n",
        "narrative_text = []\n",
        "text = []\n",
        "list_item = []\n",
        "composite_element = []\n",
        "table = []\n",
        "image = []\n",
        "\n",
        "\n",
        "for element in elements:\n",
        "    if \"unstructured.documents.elements.Header\" in str(type(element)):\n",
        "                header.append(str(element))\n",
        "    elif \"unstructured.documents.elements.Footer\" in str(type(element)):\n",
        "                footer.append(str(element))\n",
        "    elif \"unstructured.documents.elements.Title\" in str(type(element)):\n",
        "                title.append(str(element))\n",
        "    elif \"unstructured.documents.elements.NarrativeText\" in str(type(element)):\n",
        "                narrative_text.append(str(element))\n",
        "    elif \"unstructured.documents.elements.Text\" in str(type(element)):\n",
        "                text.append(str(element))\n",
        "    elif \"unstructured.documents.elements.ListItem\" in str(type(element)):\n",
        "                list_item.append(str(element))\n",
        "    elif \"unstructured.documents.elements.CompositeElement\" in str(type(element)):\n",
        "                composite_element.append(str(element))\n",
        "    elif \"unstructured.documents.elements.Image\" in str(type(element)):\n",
        "                table.append(str(element))\n",
        "    elif \"unstructured.documents.elements.Table\" in str(type(element)):\n",
        "                image.append(str(element))\n",
        "\n",
        "print(\"1\",len(header))\n",
        "print(\"2\",len(footer))\n",
        "print(\"3\",len(title))\n",
        "print(\"4\",len(narrative_text))\n",
        "print(\"5\",len(text))\n",
        "print(\"6\",len(list_item))\n",
        "print(\"7\",len(composite_element))\n",
        "print(\"8\",len(table))\n",
        "print(\"9\",len(image))"
      ],
      "metadata": {
        "colab": {
          "base_uri": "https://localhost:8080/"
        },
        "id": "khTuhyn4sjvF",
        "outputId": "cbe0a92c-b57b-4f7e-ba5a-4a987df64636"
      },
      "execution_count": null,
      "outputs": [
        {
          "output_type": "stream",
          "name": "stdout",
          "text": [
            "1 0\n",
            "2 0\n",
            "3 44\n",
            "4 43\n",
            "5 77\n",
            "6 6\n",
            "7 0\n",
            "8 1\n",
            "9 10\n"
          ]
        }
      ]
    },
    {
      "cell_type": "code",
      "source": [
        "print(narrative_text[1])\n",
        "textss = []\n",
        "dum = ''\n",
        "for i in narrative_text:\n",
        "    dum += i + \" \"\n",
        "textss.append(dum)\n",
        "print(textss)\n",
        "print(len(textss))"
      ],
      "metadata": {
        "colab": {
          "base_uri": "https://localhost:8080/"
        },
        "id": "KO2FtgGNPGsn",
        "outputId": "0f43900b-67e4-436f-aa87-3e8d7b8357ba"
      },
      "execution_count": null,
      "outputs": [
        {
          "output_type": "stream",
          "name": "stdout",
          "text": [
            "\"We had a strong quarter, and Meta AI is on track to be the most used AI assistant in the world by the end of the year,\" said Mark Zuckerberg, Meta founder and CEO. \"We've released the rst frontier-level open source AI model, we continue to see good traction with our Ray-Ban Meta AI glasses, and we're driving good growth across our apps.\"\n",
            "['MENLO PARK, Calif., July 31, 2024 /PRNewswire/ -- Meta Platforms, Inc. (Nasdaq: META) today reported nancial results for the quarter ended June 30, 2024. \"We had a strong quarter, and Meta AI is on track to be the most used AI assistant in the world by the end of the year,\" said Mark Zuckerberg, Meta founder and CEO. \"We\\'ve released the rst frontier-level open source AI model, we continue to see good traction with our Ray-Ban Meta AI glasses, and we\\'re driving good growth across our apps.\" Average price per ad – Average price per ad increased by 10% year-over-year. currency basis would have increased 23% year-over-year. Costs and expenses – Total costs and expenses were $24.22 billion, an increase of 7% year-over-year. Headcount – Headcount was 70,799 as of June 30, 2024, a decrease of 1% year-over-year. We expect third quarter 2024 total revenue to be in the range of $38.5-41 billion. Our guidance assumes foreign currency is a 2% headwind to year-over-year total revenue growth, based on current exchange rates. We expect full-year 2024 total expenses to be in the range of $96-99 billion, unchanged from our prior outlook. For Reality Labs, we continue to expect 2024 operating losses to increase meaningfully year-over-year due to our ongoing product development eorts and investments to further scale our ecosystem. While we do not intend to provide any quantitative guidance for 2025 until the fourth quarter call, we expect infrastructure costs will be a signicant driver of expense growth next year as we recognize depreciation and operating costs associated with our expanded infrastructure footprint. We anticipate our full-year 2024 capital expenditures will be in the range of $37-40 billion, updated from our prior range of $35-40 billion. While we continue to rene our plans for next year, we currently expect signicant capital expenditures growth in 2025 as we invest to support our articial intelligence research and product development eorts. Absent any changes to our tax landscape, we expect our full-year 2024 tax rate to be in the mid-teens. In addition, we continue to monitor an active regulatory landscape, including the increasing legal and regulatory headwinds in the EU and the U.S. that could signicantly impact our business and our nancial results. Meta will host a conference call to discuss the results at 2:00 p.m. PT / 5:00 p.m. ET today. The live webcast of Meta\\'s earnings conference call can be accessed at the Meta Investor Relations website at investor.fb.com, along with the earnings press release, nancial tables, and slide presentation. Following the call, a replay will be available at the same website. Transcripts of conference calls with publishing equity research analysts held today will also be posted to the investor.fb.com website. Meta uses the investor.fb.com and about.fb.com/news/ websites as well as Mark Zuckerberg\\'s Facebook Page (facebook.com/zuck), Instagram account (instagram.com/zuck) and Threads prole (threads.net/zuck) as means of disclosing material non-public information and for complying with its disclosure obligations under Regulation FD. Meta builds technologies that help people connect, nd communities, and grow businesses. When Facebook launched in 2004, it changed the way people connect. Apps like Messenger, Instagram, and WhatsApp further empowered billions around the world. Now, Meta is moving beyond 2D screens toward immersive experiences like augmented and virtual reality to help build the next evolution in social technology. investor@meta.com / investor.fb.com Press: press@meta.com / about.fb.com/news/ Forward-Looking Statements This press release contains forward-looking statements regarding our future business plans and expectations. These forward-looking statements are only predictions and may dier materially from actual results due to a variety of factors including: the impact of macroeconomic conditions on our business and nancial results, including as a result of geopolitical events; our ability to retain or increase users and engagement levels; our reliance on advertising revenue; our dependency on data signals and mobile operating systems, networks, and standards that we do not control; changes to the content or application of third-party policies that impact our advertising practices; risks associated with new products and changes to existing products as well as other new business initiatives, including our articial intelligence initiatives and metaverse eorts; our emphasis on community growth and engagement and the user experience over short-term nancial results; maintaining and enhancing our brand and reputation; our ongoing privacy, safety, security, and content review eorts; competition; risks associated with government actions that could restrict access to our products or impair our ability to sell advertising in certain countries; litigation and government inquiries; privacy, legislative, and regulatory concerns or developments; risks associated with acquisitions; security breaches; our ability to manage our scale and geographically-dispersed operations; and market conditions or other factors aecting the payment of dividends. These and other potential risks and uncertainties that could cause actual results to dier from the results predicted are more fully detailed under the caption \"Risk Factors\" in our Quarterly Report on Form 10-Q led with the SEC on April 25, 2024, which is available on our Investor Relations website at investor.fb.com and on the SEC website at www.sec.gov. Additional information will also be set forth in our Quarterly Report on Form 10-Q for the quarter ended June 30, 2024. In addition, please note that the date of this press release is July 31, 2024, and any forward-looking statements contained herein are based on assumptions that we believe to be reasonable as of this date. We undertake no obligation to update these statements as a result of new information or future events. For a discussion of limitations in the measurement of certain of our community metrics, see the section entitled \"Limitations of Key Metrics and Other Data\" in our most recent quarterly or annual report led with the SEC. To supplement our condensed consolidated nancial statements, which are prepared and presented in accordance with generally accepted accounting principles in the United States (GAAP), we use the following non-GAAP nancial measures: revenue excluding foreign exchange eect, advertising revenue excluding foreign exchange eect, and free cash ow. The presentation of these nancial measures is not intended to be considered in isolation or as a substitute for, or superior to, nancial information prepared and presented in accordance with GAAP. Investors are cautioned that there are material limitations associated with the use of non-GAAP nancial measures as an analytical tool. In addition, these measures may be dierent from non-GAAP nancial measures used by other companies, limiting their usefulness for comparison purposes. We compensate for these limitations by providing specic information regarding the GAAP amounts excluded from these non-GAAP nancial measures. We believe these non-GAAP nancial measures provide investors with useful supplemental information about the nancial performance of our business, enable comparison of nancial results between periods where certain items may vary independent of business performance, and allow for greater transparency with respect to key metrics used by management in operating our business. Our non-GAAP nancial measures are adjusted for the following items: Foreign exchange eect on revenue. We translated revenue for the three and six months ended June 30, 2024 using the prior year\\'s monthly exchange rates for our settlement or billing currencies other than the U.S. dollar, which we believe is a useful metric that facilitates comparison to our historical performance. Purchases of property and equipment; Principal payments on nance leases. We subtract both purchases of property and equipment, net of proceeds and principal payments on nance leases in our calculation of free cash ow because we believe that these two items collectively represent the amount of property and equipment we need to procure to support our business, regardless of whether we procure such property or equipment with a nance lease. We believe that this methodology can provide useful supplemental information to help investors better understand underlying trends in our business. Free cash ow is not intended to represent our residual cash ow available for discretionary expenditures. For more information on our non-GAAP nancial measures and a reconciliation of GAAP to non-GAAP measures, please see the \"Reconciliation of GAAP to Non-GAAP Results\" table in this press release. (Unaudited) (1) The second quarter 2024 general and administrative expenses include a charge for the recent settlement with the State of Texas. The settlement amount is fully accrued as of June 30, 2024. (In millions) Accumulated other comprehensive loss Retained earnings (In millions) Cash, cash equivalents, and restricted cash at end of the period Reconciliation of cash, cash equivalents, and restricted cash to the (In millions) We report our nancial results for our two reportable segments: Family of Apps (FoA) and Reality Labs (RL). FoA includes Facebook, Instagram, Messenger, WhatsApp, and other services. RL includes our virtual, augmented, and mixed reality related consumer hardware, software, and content. The following table presents our segment information of revenue and income (loss) from operations: Revenue: View original content to download multimedia:https://www.prnewswire.com/news-releases/meta-reports- second-quarter-2024-results-302211512.html ']\n",
            "1\n"
          ]
        }
      ]
    },
    {
      "cell_type": "code",
      "source": [
        "%pip install -U weaviate-client\n",
        "%pip install langchain_cohere"
      ],
      "metadata": {
        "colab": {
          "base_uri": "https://localhost:8080/"
        },
        "collapsed": true,
        "id": "T51MT-nCvZq7",
        "outputId": "95b3f323-045b-4579-9012-9bb532fbe041"
      },
      "execution_count": null,
      "outputs": [
        {
          "output_type": "stream",
          "name": "stdout",
          "text": [
            "Collecting weaviate-client\n",
            "  Downloading weaviate_client-4.10.2-py3-none-any.whl.metadata (3.6 kB)\n",
            "Requirement already satisfied: httpx<0.29.0,>=0.26.0 in /usr/local/lib/python3.10/dist-packages (from weaviate-client) (0.28.1)\n",
            "Collecting validators==0.34.0 (from weaviate-client)\n",
            "  Downloading validators-0.34.0-py3-none-any.whl.metadata (3.8 kB)\n",
            "Collecting authlib<1.3.2,>=1.2.1 (from weaviate-client)\n",
            "  Downloading Authlib-1.3.1-py2.py3-none-any.whl.metadata (3.8 kB)\n",
            "Requirement already satisfied: pydantic<3.0.0,>=2.8.0 in /usr/local/lib/python3.10/dist-packages (from weaviate-client) (2.9.2)\n",
            "Requirement already satisfied: grpcio<2.0.0,>=1.66.2 in /usr/local/lib/python3.10/dist-packages (from weaviate-client) (1.68.1)\n",
            "Collecting grpcio-tools<2.0.0,>=1.66.2 (from weaviate-client)\n",
            "  Downloading grpcio_tools-1.69.0-cp310-cp310-manylinux_2_17_x86_64.manylinux2014_x86_64.whl.metadata (5.3 kB)\n",
            "Collecting grpcio-health-checking<2.0.0,>=1.66.2 (from weaviate-client)\n",
            "  Downloading grpcio_health_checking-1.69.0-py3-none-any.whl.metadata (1.1 kB)\n",
            "Requirement already satisfied: cryptography in /usr/local/lib/python3.10/dist-packages (from authlib<1.3.2,>=1.2.1->weaviate-client) (43.0.3)\n",
            "Collecting protobuf<6.0dev,>=5.26.1 (from grpcio-health-checking<2.0.0,>=1.66.2->weaviate-client)\n",
            "  Downloading protobuf-5.29.2-cp38-abi3-manylinux2014_x86_64.whl.metadata (592 bytes)\n",
            "Collecting grpcio<2.0.0,>=1.66.2 (from weaviate-client)\n",
            "  Downloading grpcio-1.69.0-cp310-cp310-manylinux_2_17_x86_64.manylinux2014_x86_64.whl.metadata (3.9 kB)\n",
            "Requirement already satisfied: setuptools in /usr/local/lib/python3.10/dist-packages (from grpcio-tools<2.0.0,>=1.66.2->weaviate-client) (75.1.0)\n",
            "Requirement already satisfied: anyio in /usr/local/lib/python3.10/dist-packages (from httpx<0.29.0,>=0.26.0->weaviate-client) (3.7.1)\n",
            "Requirement already satisfied: certifi in /usr/local/lib/python3.10/dist-packages (from httpx<0.29.0,>=0.26.0->weaviate-client) (2024.12.14)\n",
            "Requirement already satisfied: httpcore==1.* in /usr/local/lib/python3.10/dist-packages (from httpx<0.29.0,>=0.26.0->weaviate-client) (1.0.7)\n",
            "Requirement already satisfied: idna in /usr/local/lib/python3.10/dist-packages (from httpx<0.29.0,>=0.26.0->weaviate-client) (3.10)\n",
            "Requirement already satisfied: h11<0.15,>=0.13 in /usr/local/lib/python3.10/dist-packages (from httpcore==1.*->httpx<0.29.0,>=0.26.0->weaviate-client) (0.14.0)\n",
            "Requirement already satisfied: annotated-types>=0.6.0 in /usr/local/lib/python3.10/dist-packages (from pydantic<3.0.0,>=2.8.0->weaviate-client) (0.7.0)\n",
            "Requirement already satisfied: pydantic-core==2.23.4 in /usr/local/lib/python3.10/dist-packages (from pydantic<3.0.0,>=2.8.0->weaviate-client) (2.23.4)\n",
            "Requirement already satisfied: typing-extensions>=4.6.1 in /usr/local/lib/python3.10/dist-packages (from pydantic<3.0.0,>=2.8.0->weaviate-client) (4.12.2)\n",
            "Requirement already satisfied: sniffio>=1.1 in /usr/local/lib/python3.10/dist-packages (from anyio->httpx<0.29.0,>=0.26.0->weaviate-client) (1.3.1)\n",
            "Requirement already satisfied: exceptiongroup in /usr/local/lib/python3.10/dist-packages (from anyio->httpx<0.29.0,>=0.26.0->weaviate-client) (1.2.2)\n",
            "Requirement already satisfied: cffi>=1.12 in /usr/local/lib/python3.10/dist-packages (from cryptography->authlib<1.3.2,>=1.2.1->weaviate-client) (1.17.1)\n",
            "Requirement already satisfied: pycparser in /usr/local/lib/python3.10/dist-packages (from cffi>=1.12->cryptography->authlib<1.3.2,>=1.2.1->weaviate-client) (2.22)\n",
            "Downloading weaviate_client-4.10.2-py3-none-any.whl (325 kB)\n",
            "\u001b[2K   \u001b[90m━━━━━━━━━━━━━━━━━━━━━━━━━━━━━━━━━━━━━━━━\u001b[0m \u001b[32m325.4/325.4 kB\u001b[0m \u001b[31m17.2 MB/s\u001b[0m eta \u001b[36m0:00:00\u001b[0m\n",
            "\u001b[?25hDownloading validators-0.34.0-py3-none-any.whl (43 kB)\n",
            "\u001b[2K   \u001b[90m━━━━━━━━━━━━━━━━━━━━━━━━━━━━━━━━━━━━━━━━\u001b[0m \u001b[32m43.5/43.5 kB\u001b[0m \u001b[31m3.4 MB/s\u001b[0m eta \u001b[36m0:00:00\u001b[0m\n",
            "\u001b[?25hDownloading Authlib-1.3.1-py2.py3-none-any.whl (223 kB)\n",
            "\u001b[2K   \u001b[90m━━━━━━━━━━━━━━━━━━━━━━━━━━━━━━━━━━━━━━━━\u001b[0m \u001b[32m223.8/223.8 kB\u001b[0m \u001b[31m16.5 MB/s\u001b[0m eta \u001b[36m0:00:00\u001b[0m\n",
            "\u001b[?25hDownloading grpcio_health_checking-1.69.0-py3-none-any.whl (18 kB)\n",
            "Downloading grpcio-1.69.0-cp310-cp310-manylinux_2_17_x86_64.manylinux2014_x86_64.whl (6.0 MB)\n",
            "\u001b[2K   \u001b[90m━━━━━━━━━━━━━━━━━━━━━━━━━━━━━━━━━━━━━━━━\u001b[0m \u001b[32m6.0/6.0 MB\u001b[0m \u001b[31m65.5 MB/s\u001b[0m eta \u001b[36m0:00:00\u001b[0m\n",
            "\u001b[?25hDownloading grpcio_tools-1.69.0-cp310-cp310-manylinux_2_17_x86_64.manylinux2014_x86_64.whl (2.5 MB)\n",
            "\u001b[2K   \u001b[90m━━━━━━━━━━━━━━━━━━━━━━━━━━━━━━━━━━━━━━━━\u001b[0m \u001b[32m2.5/2.5 MB\u001b[0m \u001b[31m80.2 MB/s\u001b[0m eta \u001b[36m0:00:00\u001b[0m\n",
            "\u001b[?25hDownloading protobuf-5.29.2-cp38-abi3-manylinux2014_x86_64.whl (319 kB)\n",
            "\u001b[2K   \u001b[90m━━━━━━━━━━━━━━━━━━━━━━━━━━━━━━━━━━━━━━━━\u001b[0m \u001b[32m319.7/319.7 kB\u001b[0m \u001b[31m25.0 MB/s\u001b[0m eta \u001b[36m0:00:00\u001b[0m\n",
            "\u001b[?25hInstalling collected packages: validators, protobuf, grpcio, grpcio-tools, grpcio-health-checking, authlib, weaviate-client\n",
            "  Attempting uninstall: protobuf\n",
            "    Found existing installation: protobuf 4.25.5\n",
            "    Uninstalling protobuf-4.25.5:\n",
            "      Successfully uninstalled protobuf-4.25.5\n",
            "  Attempting uninstall: grpcio\n",
            "    Found existing installation: grpcio 1.68.1\n",
            "    Uninstalling grpcio-1.68.1:\n",
            "      Successfully uninstalled grpcio-1.68.1\n",
            "\u001b[31mERROR: pip's dependency resolver does not currently take into account all the packages that are installed. This behaviour is the source of the following dependency conflicts.\n",
            "tensorflow 2.17.1 requires protobuf!=4.21.0,!=4.21.1,!=4.21.2,!=4.21.3,!=4.21.4,!=4.21.5,<5.0.0dev,>=3.20.3, but you have protobuf 5.29.2 which is incompatible.\n",
            "tensorflow-metadata 1.13.1 requires protobuf<5,>=3.20.3, but you have protobuf 5.29.2 which is incompatible.\u001b[0m\u001b[31m\n",
            "\u001b[0mSuccessfully installed authlib-1.3.1 grpcio-1.69.0 grpcio-health-checking-1.69.0 grpcio-tools-1.69.0 protobuf-5.29.2 validators-0.34.0 weaviate-client-4.10.2\n",
            "Collecting langchain_cohere\n",
            "  Downloading langchain_cohere-0.3.4-py3-none-any.whl.metadata (6.7 kB)\n",
            "Collecting cohere<6.0,>=5.5.6 (from langchain_cohere)\n",
            "  Downloading cohere-5.13.5-py3-none-any.whl.metadata (3.5 kB)\n",
            "Collecting langchain-core<0.4.0,>=0.3.27 (from langchain_cohere)\n",
            "  Downloading langchain_core-0.3.29-py3-none-any.whl.metadata (6.3 kB)\n",
            "Collecting langchain-experimental<0.4.0,>=0.3.0 (from langchain_cohere)\n",
            "  Downloading langchain_experimental-0.3.4-py3-none-any.whl.metadata (1.7 kB)\n",
            "Requirement already satisfied: pandas>=1.4.3 in /usr/local/lib/python3.10/dist-packages (from langchain_cohere) (2.2.2)\n",
            "Requirement already satisfied: pydantic<3,>=2 in /usr/local/lib/python3.10/dist-packages (from langchain_cohere) (2.9.2)\n",
            "Requirement already satisfied: tabulate<0.10.0,>=0.9.0 in /usr/local/lib/python3.10/dist-packages (from langchain_cohere) (0.9.0)\n",
            "Collecting fastavro<2.0.0,>=1.9.4 (from cohere<6.0,>=5.5.6->langchain_cohere)\n",
            "  Downloading fastavro-1.10.0-cp310-cp310-manylinux_2_17_x86_64.manylinux2014_x86_64.whl.metadata (5.5 kB)\n",
            "Requirement already satisfied: httpx>=0.21.2 in /usr/local/lib/python3.10/dist-packages (from cohere<6.0,>=5.5.6->langchain_cohere) (0.28.1)\n",
            "Collecting httpx-sse==0.4.0 (from cohere<6.0,>=5.5.6->langchain_cohere)\n",
            "  Downloading httpx_sse-0.4.0-py3-none-any.whl.metadata (9.0 kB)\n",
            "Collecting parameterized<0.10.0,>=0.9.0 (from cohere<6.0,>=5.5.6->langchain_cohere)\n",
            "  Downloading parameterized-0.9.0-py2.py3-none-any.whl.metadata (18 kB)\n",
            "Requirement already satisfied: pydantic-core<3.0.0,>=2.18.2 in /usr/local/lib/python3.10/dist-packages (from cohere<6.0,>=5.5.6->langchain_cohere) (2.23.4)\n",
            "Requirement already satisfied: requests<3.0.0,>=2.0.0 in /usr/local/lib/python3.10/dist-packages (from cohere<6.0,>=5.5.6->langchain_cohere) (2.32.3)\n",
            "Requirement already satisfied: tokenizers<1,>=0.15 in /usr/local/lib/python3.10/dist-packages (from cohere<6.0,>=5.5.6->langchain_cohere) (0.21.0)\n",
            "Collecting types-requests<3.0.0,>=2.0.0 (from cohere<6.0,>=5.5.6->langchain_cohere)\n",
            "  Downloading types_requests-2.32.0.20241016-py3-none-any.whl.metadata (1.9 kB)\n",
            "Requirement already satisfied: typing_extensions>=4.0.0 in /usr/local/lib/python3.10/dist-packages (from cohere<6.0,>=5.5.6->langchain_cohere) (4.12.2)\n",
            "Requirement already satisfied: PyYAML>=5.3 in /usr/local/lib/python3.10/dist-packages (from langchain-core<0.4.0,>=0.3.27->langchain_cohere) (6.0.2)\n",
            "Requirement already satisfied: jsonpatch<2.0,>=1.33 in /usr/local/lib/python3.10/dist-packages (from langchain-core<0.4.0,>=0.3.27->langchain_cohere) (1.33)\n",
            "Requirement already satisfied: langsmith<0.3,>=0.1.125 in /usr/local/lib/python3.10/dist-packages (from langchain-core<0.4.0,>=0.3.27->langchain_cohere) (0.2.3)\n",
            "Requirement already satisfied: packaging<25,>=23.2 in /usr/local/lib/python3.10/dist-packages (from langchain-core<0.4.0,>=0.3.27->langchain_cohere) (24.2)\n",
            "Requirement already satisfied: tenacity!=8.4.0,<10.0.0,>=8.1.0 in /usr/local/lib/python3.10/dist-packages (from langchain-core<0.4.0,>=0.3.27->langchain_cohere) (9.0.0)\n",
            "Collecting langchain-community<0.4.0,>=0.3.0 (from langchain-experimental<0.4.0,>=0.3.0->langchain_cohere)\n",
            "  Downloading langchain_community-0.3.14-py3-none-any.whl.metadata (2.9 kB)\n",
            "Requirement already satisfied: numpy>=1.22.4 in /usr/local/lib/python3.10/dist-packages (from pandas>=1.4.3->langchain_cohere) (1.26.4)\n",
            "Requirement already satisfied: python-dateutil>=2.8.2 in /usr/local/lib/python3.10/dist-packages (from pandas>=1.4.3->langchain_cohere) (2.8.2)\n",
            "Requirement already satisfied: pytz>=2020.1 in /usr/local/lib/python3.10/dist-packages (from pandas>=1.4.3->langchain_cohere) (2024.2)\n",
            "Requirement already satisfied: tzdata>=2022.7 in /usr/local/lib/python3.10/dist-packages (from pandas>=1.4.3->langchain_cohere) (2024.2)\n",
            "Requirement already satisfied: annotated-types>=0.6.0 in /usr/local/lib/python3.10/dist-packages (from pydantic<3,>=2->langchain_cohere) (0.7.0)\n",
            "Requirement already satisfied: anyio in /usr/local/lib/python3.10/dist-packages (from httpx>=0.21.2->cohere<6.0,>=5.5.6->langchain_cohere) (3.7.1)\n",
            "Requirement already satisfied: certifi in /usr/local/lib/python3.10/dist-packages (from httpx>=0.21.2->cohere<6.0,>=5.5.6->langchain_cohere) (2024.12.14)\n",
            "Requirement already satisfied: httpcore==1.* in /usr/local/lib/python3.10/dist-packages (from httpx>=0.21.2->cohere<6.0,>=5.5.6->langchain_cohere) (1.0.7)\n",
            "Requirement already satisfied: idna in /usr/local/lib/python3.10/dist-packages (from httpx>=0.21.2->cohere<6.0,>=5.5.6->langchain_cohere) (3.10)\n",
            "Requirement already satisfied: h11<0.15,>=0.13 in /usr/local/lib/python3.10/dist-packages (from httpcore==1.*->httpx>=0.21.2->cohere<6.0,>=5.5.6->langchain_cohere) (0.14.0)\n",
            "Requirement already satisfied: jsonpointer>=1.9 in /usr/local/lib/python3.10/dist-packages (from jsonpatch<2.0,>=1.33->langchain-core<0.4.0,>=0.3.27->langchain_cohere) (3.0.0)\n",
            "Requirement already satisfied: SQLAlchemy<3,>=1.4 in /usr/local/lib/python3.10/dist-packages (from langchain-community<0.4.0,>=0.3.0->langchain-experimental<0.4.0,>=0.3.0->langchain_cohere) (2.0.36)\n",
            "Requirement already satisfied: aiohttp<4.0.0,>=3.8.3 in /usr/local/lib/python3.10/dist-packages (from langchain-community<0.4.0,>=0.3.0->langchain-experimental<0.4.0,>=0.3.0->langchain_cohere) (3.11.10)\n",
            "Requirement already satisfied: dataclasses-json<0.7,>=0.5.7 in /usr/local/lib/python3.10/dist-packages (from langchain-community<0.4.0,>=0.3.0->langchain-experimental<0.4.0,>=0.3.0->langchain_cohere) (0.6.7)\n",
            "Collecting langchain<0.4.0,>=0.3.14 (from langchain-community<0.4.0,>=0.3.0->langchain-experimental<0.4.0,>=0.3.0->langchain_cohere)\n",
            "  Downloading langchain-0.3.14-py3-none-any.whl.metadata (7.1 kB)\n",
            "Collecting pydantic-settings<3.0.0,>=2.4.0 (from langchain-community<0.4.0,>=0.3.0->langchain-experimental<0.4.0,>=0.3.0->langchain_cohere)\n",
            "  Downloading pydantic_settings-2.7.1-py3-none-any.whl.metadata (3.5 kB)\n",
            "Requirement already satisfied: orjson<4.0.0,>=3.9.14 in /usr/local/lib/python3.10/dist-packages (from langsmith<0.3,>=0.1.125->langchain-core<0.4.0,>=0.3.27->langchain_cohere) (3.10.12)\n",
            "Requirement already satisfied: requests-toolbelt<2.0.0,>=1.0.0 in /usr/local/lib/python3.10/dist-packages (from langsmith<0.3,>=0.1.125->langchain-core<0.4.0,>=0.3.27->langchain_cohere) (1.0.0)\n",
            "Requirement already satisfied: six>=1.5 in /usr/local/lib/python3.10/dist-packages (from python-dateutil>=2.8.2->pandas>=1.4.3->langchain_cohere) (1.17.0)\n",
            "Requirement already satisfied: charset-normalizer<4,>=2 in /usr/local/lib/python3.10/dist-packages (from requests<3.0.0,>=2.0.0->cohere<6.0,>=5.5.6->langchain_cohere) (3.4.0)\n",
            "Requirement already satisfied: urllib3<3,>=1.21.1 in /usr/local/lib/python3.10/dist-packages (from requests<3.0.0,>=2.0.0->cohere<6.0,>=5.5.6->langchain_cohere) (2.2.3)\n",
            "Requirement already satisfied: huggingface-hub<1.0,>=0.16.4 in /usr/local/lib/python3.10/dist-packages (from tokenizers<1,>=0.15->cohere<6.0,>=5.5.6->langchain_cohere) (0.27.0)\n",
            "Requirement already satisfied: aiohappyeyeballs>=2.3.0 in /usr/local/lib/python3.10/dist-packages (from aiohttp<4.0.0,>=3.8.3->langchain-community<0.4.0,>=0.3.0->langchain-experimental<0.4.0,>=0.3.0->langchain_cohere) (2.4.4)\n",
            "Requirement already satisfied: aiosignal>=1.1.2 in /usr/local/lib/python3.10/dist-packages (from aiohttp<4.0.0,>=3.8.3->langchain-community<0.4.0,>=0.3.0->langchain-experimental<0.4.0,>=0.3.0->langchain_cohere) (1.3.2)\n",
            "Requirement already satisfied: async-timeout<6.0,>=4.0 in /usr/local/lib/python3.10/dist-packages (from aiohttp<4.0.0,>=3.8.3->langchain-community<0.4.0,>=0.3.0->langchain-experimental<0.4.0,>=0.3.0->langchain_cohere) (4.0.3)\n",
            "Requirement already satisfied: attrs>=17.3.0 in /usr/local/lib/python3.10/dist-packages (from aiohttp<4.0.0,>=3.8.3->langchain-community<0.4.0,>=0.3.0->langchain-experimental<0.4.0,>=0.3.0->langchain_cohere) (24.3.0)\n",
            "Requirement already satisfied: frozenlist>=1.1.1 in /usr/local/lib/python3.10/dist-packages (from aiohttp<4.0.0,>=3.8.3->langchain-community<0.4.0,>=0.3.0->langchain-experimental<0.4.0,>=0.3.0->langchain_cohere) (1.5.0)\n",
            "Requirement already satisfied: multidict<7.0,>=4.5 in /usr/local/lib/python3.10/dist-packages (from aiohttp<4.0.0,>=3.8.3->langchain-community<0.4.0,>=0.3.0->langchain-experimental<0.4.0,>=0.3.0->langchain_cohere) (6.1.0)\n",
            "Requirement already satisfied: propcache>=0.2.0 in /usr/local/lib/python3.10/dist-packages (from aiohttp<4.0.0,>=3.8.3->langchain-community<0.4.0,>=0.3.0->langchain-experimental<0.4.0,>=0.3.0->langchain_cohere) (0.2.1)\n",
            "Requirement already satisfied: yarl<2.0,>=1.17.0 in /usr/local/lib/python3.10/dist-packages (from aiohttp<4.0.0,>=3.8.3->langchain-community<0.4.0,>=0.3.0->langchain-experimental<0.4.0,>=0.3.0->langchain_cohere) (1.18.3)\n",
            "Requirement already satisfied: marshmallow<4.0.0,>=3.18.0 in /usr/local/lib/python3.10/dist-packages (from dataclasses-json<0.7,>=0.5.7->langchain-community<0.4.0,>=0.3.0->langchain-experimental<0.4.0,>=0.3.0->langchain_cohere) (3.23.3)\n",
            "Requirement already satisfied: typing-inspect<1,>=0.4.0 in /usr/local/lib/python3.10/dist-packages (from dataclasses-json<0.7,>=0.5.7->langchain-community<0.4.0,>=0.3.0->langchain-experimental<0.4.0,>=0.3.0->langchain_cohere) (0.9.0)\n",
            "Requirement already satisfied: filelock in /usr/local/lib/python3.10/dist-packages (from huggingface-hub<1.0,>=0.16.4->tokenizers<1,>=0.15->cohere<6.0,>=5.5.6->langchain_cohere) (3.16.1)\n",
            "Requirement already satisfied: fsspec>=2023.5.0 in /usr/local/lib/python3.10/dist-packages (from huggingface-hub<1.0,>=0.16.4->tokenizers<1,>=0.15->cohere<6.0,>=5.5.6->langchain_cohere) (2024.10.0)\n",
            "Requirement already satisfied: tqdm>=4.42.1 in /usr/local/lib/python3.10/dist-packages (from huggingface-hub<1.0,>=0.16.4->tokenizers<1,>=0.15->cohere<6.0,>=5.5.6->langchain_cohere) (4.67.1)\n",
            "Requirement already satisfied: langchain-text-splitters<0.4.0,>=0.3.3 in /usr/local/lib/python3.10/dist-packages (from langchain<0.4.0,>=0.3.14->langchain-community<0.4.0,>=0.3.0->langchain-experimental<0.4.0,>=0.3.0->langchain_cohere) (0.3.3)\n",
            "Collecting python-dotenv>=0.21.0 (from pydantic-settings<3.0.0,>=2.4.0->langchain-community<0.4.0,>=0.3.0->langchain-experimental<0.4.0,>=0.3.0->langchain_cohere)\n",
            "  Downloading python_dotenv-1.0.1-py3-none-any.whl.metadata (23 kB)\n",
            "Requirement already satisfied: greenlet!=0.4.17 in /usr/local/lib/python3.10/dist-packages (from SQLAlchemy<3,>=1.4->langchain-community<0.4.0,>=0.3.0->langchain-experimental<0.4.0,>=0.3.0->langchain_cohere) (3.1.1)\n",
            "Requirement already satisfied: sniffio>=1.1 in /usr/local/lib/python3.10/dist-packages (from anyio->httpx>=0.21.2->cohere<6.0,>=5.5.6->langchain_cohere) (1.3.1)\n",
            "Requirement already satisfied: exceptiongroup in /usr/local/lib/python3.10/dist-packages (from anyio->httpx>=0.21.2->cohere<6.0,>=5.5.6->langchain_cohere) (1.2.2)\n",
            "Requirement already satisfied: mypy-extensions>=0.3.0 in /usr/local/lib/python3.10/dist-packages (from typing-inspect<1,>=0.4.0->dataclasses-json<0.7,>=0.5.7->langchain-community<0.4.0,>=0.3.0->langchain-experimental<0.4.0,>=0.3.0->langchain_cohere) (1.0.0)\n",
            "Downloading langchain_cohere-0.3.4-py3-none-any.whl (44 kB)\n",
            "\u001b[2K   \u001b[90m━━━━━━━━━━━━━━━━━━━━━━━━━━━━━━━━━━━━━━━━\u001b[0m \u001b[32m44.3/44.3 kB\u001b[0m \u001b[31m342.3 kB/s\u001b[0m eta \u001b[36m0:00:00\u001b[0m\n",
            "\u001b[?25hDownloading cohere-5.13.5-py3-none-any.whl (250 kB)\n",
            "\u001b[2K   \u001b[90m━━━━━━━━━━━━━━━━━━━━━━━━━━━━━━━━━━━━━━━━\u001b[0m \u001b[32m250.7/250.7 kB\u001b[0m \u001b[31m18.5 MB/s\u001b[0m eta \u001b[36m0:00:00\u001b[0m\n",
            "\u001b[?25hDownloading httpx_sse-0.4.0-py3-none-any.whl (7.8 kB)\n",
            "Downloading langchain_core-0.3.29-py3-none-any.whl (411 kB)\n",
            "\u001b[2K   \u001b[90m━━━━━━━━━━━━━━━━━━━━━━━━━━━━━━━━━━━━━━━━\u001b[0m \u001b[32m411.6/411.6 kB\u001b[0m \u001b[31m23.7 MB/s\u001b[0m eta \u001b[36m0:00:00\u001b[0m\n",
            "\u001b[?25hDownloading langchain_experimental-0.3.4-py3-none-any.whl (209 kB)\n",
            "\u001b[2K   \u001b[90m━━━━━━━━━━━━━━━━━━━━━━━━━━━━━━━━━━━━━━━━\u001b[0m \u001b[32m209.2/209.2 kB\u001b[0m \u001b[31m15.9 MB/s\u001b[0m eta \u001b[36m0:00:00\u001b[0m\n",
            "\u001b[?25hDownloading fastavro-1.10.0-cp310-cp310-manylinux_2_17_x86_64.manylinux2014_x86_64.whl (3.1 MB)\n",
            "\u001b[2K   \u001b[90m━━━━━━━━━━━━━━━━━━━━━━━━━━━━━━━━━━━━━━━━\u001b[0m \u001b[32m3.1/3.1 MB\u001b[0m \u001b[31m68.3 MB/s\u001b[0m eta \u001b[36m0:00:00\u001b[0m\n",
            "\u001b[?25hDownloading langchain_community-0.3.14-py3-none-any.whl (2.5 MB)\n",
            "\u001b[2K   \u001b[90m━━━━━━━━━━━━━━━━━━━━━━━━━━━━━━━━━━━━━━━━\u001b[0m \u001b[32m2.5/2.5 MB\u001b[0m \u001b[31m70.7 MB/s\u001b[0m eta \u001b[36m0:00:00\u001b[0m\n",
            "\u001b[?25hDownloading parameterized-0.9.0-py2.py3-none-any.whl (20 kB)\n",
            "Downloading types_requests-2.32.0.20241016-py3-none-any.whl (15 kB)\n",
            "Downloading langchain-0.3.14-py3-none-any.whl (1.0 MB)\n",
            "\u001b[2K   \u001b[90m━━━━━━━━━━━━━━━━━━━━━━━━━━━━━━━━━━━━━━━━\u001b[0m \u001b[32m1.0/1.0 MB\u001b[0m \u001b[31m43.0 MB/s\u001b[0m eta \u001b[36m0:00:00\u001b[0m\n",
            "\u001b[?25hDownloading pydantic_settings-2.7.1-py3-none-any.whl (29 kB)\n",
            "Downloading python_dotenv-1.0.1-py3-none-any.whl (19 kB)\n",
            "Installing collected packages: types-requests, python-dotenv, parameterized, httpx-sse, fastavro, pydantic-settings, langchain-core, cohere, langchain, langchain-community, langchain-experimental, langchain_cohere\n",
            "  Attempting uninstall: langchain-core\n",
            "    Found existing installation: langchain-core 0.3.25\n",
            "    Uninstalling langchain-core-0.3.25:\n",
            "      Successfully uninstalled langchain-core-0.3.25\n",
            "  Attempting uninstall: langchain\n",
            "    Found existing installation: langchain 0.3.12\n",
            "    Uninstalling langchain-0.3.12:\n",
            "      Successfully uninstalled langchain-0.3.12\n",
            "Successfully installed cohere-5.13.5 fastavro-1.10.0 httpx-sse-0.4.0 langchain-0.3.14 langchain-community-0.3.14 langchain-core-0.3.29 langchain-experimental-0.3.4 langchain_cohere-0.3.4 parameterized-0.9.0 pydantic-settings-2.7.1 python-dotenv-1.0.1 types-requests-2.32.0.20241016\n"
          ]
        }
      ]
    },
    {
      "cell_type": "code",
      "source": [
        "from google.colab import userdata\n",
        "\n",
        "\n",
        "from langchain_cohere import ChatCohere, CohereEmbeddings, CohereRerank, CohereRagRetriever\n",
        "from langchain.text_splitter import CharacterTextSplitter\n",
        "\n"
      ],
      "metadata": {
        "id": "76mMy_F80Flo"
      },
      "execution_count": null,
      "outputs": []
    },
    {
      "cell_type": "code",
      "source": [
        "COHR_APIKEY = userdata.get(\"COHR_API_KEY\")\n",
        "llm = ChatCohere(cohere_api_key=userdata.get('COHR_API_KEY'),\n",
        "                 model=\"command-r-plus-08-2024\",\n",
        "                 temperature=0)\n",
        "\n",
        "embeddings = CohereEmbeddings(cohere_api_key=userdata.get('COHR_API_KEY'),\n",
        "                              model=\"embed-english-v3.0\")"
      ],
      "metadata": {
        "id": "ErUKxWz5NaIC"
      },
      "execution_count": null,
      "outputs": []
    },
    {
      "cell_type": "code",
      "source": [
        "from langchain.schema import Document"
      ],
      "metadata": {
        "id": "YWfgPMQnR3id"
      },
      "execution_count": null,
      "outputs": []
    },
    {
      "cell_type": "code",
      "source": [
        "text_splitter = CharacterTextSplitter(chunk_size=500, chunk_overlap=50)\n",
        "#documents = text_splitter.split_documents(narrative_text)\n",
        "documents = text_splitter.split_documents([Document(page_content=i) for i in textss])\n",
        "\n",
        "documents_dumb = text_splitter.split_documents([Document(page_content=i) for i in narrative_text])\n"
      ],
      "metadata": {
        "id": "w8avZ_XJOLPs"
      },
      "execution_count": null,
      "outputs": []
    },
    {
      "cell_type": "code",
      "source": [
        "#embedded_documents = []\n",
        "#for document in documents:\n",
        "#    embedded_document = {\n",
        "#        'text': document,\n",
        "#        'embedding': embeddings.embed(narrative_text, input_type=\"search_document\") # Added input_type\n",
        "#    }\n",
        "#    embedded_documents.append(embedded_document)"
      ],
      "metadata": {
        "id": "Wyp1U39IwtvF"
      },
      "execution_count": null,
      "outputs": []
    },
    {
      "cell_type": "code",
      "source": [
        "print(len(documents))\n",
        "print(documents)\n",
        "print(\"-------------\")\n",
        "print(documents_dumb)\n",
        "print(len(documents_dumb))"
      ],
      "metadata": {
        "colab": {
          "base_uri": "https://localhost:8080/"
        },
        "id": "glF-FHmY0LXh",
        "outputId": "4997601c-843b-4334-9709-e82c67d216a1"
      },
      "execution_count": null,
      "outputs": [
        {
          "output_type": "stream",
          "name": "stdout",
          "text": [
            "1\n",
            "[Document(metadata={}, page_content='MENLO PARK, Calif., July 31, 2024 /PRNewswire/ -- Meta Platforms, Inc. (Nasdaq: META) today reported nancial results for the quarter ended June 30, 2024. \"We had a strong quarter, and Meta AI is on track to be the most used AI assistant in the world by the end of the year,\" said Mark Zuckerberg, Meta founder and CEO. \"We\\'ve released the rst frontier-level open source AI model, we continue to see good traction with our Ray-Ban Meta AI glasses, and we\\'re driving good growth across our apps.\" Average price per ad – Average price per ad increased by 10% year-over-year. currency basis would have increased 23% year-over-year. Costs and expenses – Total costs and expenses were $24.22 billion, an increase of 7% year-over-year. Headcount – Headcount was 70,799 as of June 30, 2024, a decrease of 1% year-over-year. We expect third quarter 2024 total revenue to be in the range of $38.5-41 billion. Our guidance assumes foreign currency is a 2% headwind to year-over-year total revenue growth, based on current exchange rates. We expect full-year 2024 total expenses to be in the range of $96-99 billion, unchanged from our prior outlook. For Reality Labs, we continue to expect 2024 operating losses to increase meaningfully year-over-year due to our ongoing product development eorts and investments to further scale our ecosystem. While we do not intend to provide any quantitative guidance for 2025 until the fourth quarter call, we expect infrastructure costs will be a signicant driver of expense growth next year as we recognize depreciation and operating costs associated with our expanded infrastructure footprint. We anticipate our full-year 2024 capital expenditures will be in the range of $37-40 billion, updated from our prior range of $35-40 billion. While we continue to rene our plans for next year, we currently expect signicant capital expenditures growth in 2025 as we invest to support our articial intelligence research and product development eorts. Absent any changes to our tax landscape, we expect our full-year 2024 tax rate to be in the mid-teens. In addition, we continue to monitor an active regulatory landscape, including the increasing legal and regulatory headwinds in the EU and the U.S. that could signicantly impact our business and our nancial results. Meta will host a conference call to discuss the results at 2:00 p.m. PT / 5:00 p.m. ET today. The live webcast of Meta\\'s earnings conference call can be accessed at the Meta Investor Relations website at investor.fb.com, along with the earnings press release, nancial tables, and slide presentation. Following the call, a replay will be available at the same website. Transcripts of conference calls with publishing equity research analysts held today will also be posted to the investor.fb.com website. Meta uses the investor.fb.com and about.fb.com/news/ websites as well as Mark Zuckerberg\\'s Facebook Page (facebook.com/zuck), Instagram account (instagram.com/zuck) and Threads prole (threads.net/zuck) as means of disclosing material non-public information and for complying with its disclosure obligations under Regulation FD. Meta builds technologies that help people connect, nd communities, and grow businesses. When Facebook launched in 2004, it changed the way people connect. Apps like Messenger, Instagram, and WhatsApp further empowered billions around the world. Now, Meta is moving beyond 2D screens toward immersive experiences like augmented and virtual reality to help build the next evolution in social technology. investor@meta.com / investor.fb.com Press: press@meta.com / about.fb.com/news/ Forward-Looking Statements This press release contains forward-looking statements regarding our future business plans and expectations. These forward-looking statements are only predictions and may dier materially from actual results due to a variety of factors including: the impact of macroeconomic conditions on our business and nancial results, including as a result of geopolitical events; our ability to retain or increase users and engagement levels; our reliance on advertising revenue; our dependency on data signals and mobile operating systems, networks, and standards that we do not control; changes to the content or application of third-party policies that impact our advertising practices; risks associated with new products and changes to existing products as well as other new business initiatives, including our articial intelligence initiatives and metaverse eorts; our emphasis on community growth and engagement and the user experience over short-term nancial results; maintaining and enhancing our brand and reputation; our ongoing privacy, safety, security, and content review eorts; competition; risks associated with government actions that could restrict access to our products or impair our ability to sell advertising in certain countries; litigation and government inquiries; privacy, legislative, and regulatory concerns or developments; risks associated with acquisitions; security breaches; our ability to manage our scale and geographically-dispersed operations; and market conditions or other factors aecting the payment of dividends. These and other potential risks and uncertainties that could cause actual results to dier from the results predicted are more fully detailed under the caption \"Risk Factors\" in our Quarterly Report on Form 10-Q led with the SEC on April 25, 2024, which is available on our Investor Relations website at investor.fb.com and on the SEC website at www.sec.gov. Additional information will also be set forth in our Quarterly Report on Form 10-Q for the quarter ended June 30, 2024. In addition, please note that the date of this press release is July 31, 2024, and any forward-looking statements contained herein are based on assumptions that we believe to be reasonable as of this date. We undertake no obligation to update these statements as a result of new information or future events. For a discussion of limitations in the measurement of certain of our community metrics, see the section entitled \"Limitations of Key Metrics and Other Data\" in our most recent quarterly or annual report led with the SEC. To supplement our condensed consolidated nancial statements, which are prepared and presented in accordance with generally accepted accounting principles in the United States (GAAP), we use the following non-GAAP nancial measures: revenue excluding foreign exchange eect, advertising revenue excluding foreign exchange eect, and free cash ow. The presentation of these nancial measures is not intended to be considered in isolation or as a substitute for, or superior to, nancial information prepared and presented in accordance with GAAP. Investors are cautioned that there are material limitations associated with the use of non-GAAP nancial measures as an analytical tool. In addition, these measures may be dierent from non-GAAP nancial measures used by other companies, limiting their usefulness for comparison purposes. We compensate for these limitations by providing specic information regarding the GAAP amounts excluded from these non-GAAP nancial measures. We believe these non-GAAP nancial measures provide investors with useful supplemental information about the nancial performance of our business, enable comparison of nancial results between periods where certain items may vary independent of business performance, and allow for greater transparency with respect to key metrics used by management in operating our business. Our non-GAAP nancial measures are adjusted for the following items: Foreign exchange eect on revenue. We translated revenue for the three and six months ended June 30, 2024 using the prior year\\'s monthly exchange rates for our settlement or billing currencies other than the U.S. dollar, which we believe is a useful metric that facilitates comparison to our historical performance. Purchases of property and equipment; Principal payments on nance leases. We subtract both purchases of property and equipment, net of proceeds and principal payments on nance leases in our calculation of free cash ow because we believe that these two items collectively represent the amount of property and equipment we need to procure to support our business, regardless of whether we procure such property or equipment with a nance lease. We believe that this methodology can provide useful supplemental information to help investors better understand underlying trends in our business. Free cash ow is not intended to represent our residual cash ow available for discretionary expenditures. For more information on our non-GAAP nancial measures and a reconciliation of GAAP to non-GAAP measures, please see the \"Reconciliation of GAAP to Non-GAAP Results\" table in this press release. (Unaudited) (1) The second quarter 2024 general and administrative expenses include a charge for the recent settlement with the State of Texas. The settlement amount is fully accrued as of June 30, 2024. (In millions) Accumulated other comprehensive loss Retained earnings (In millions) Cash, cash equivalents, and restricted cash at end of the period Reconciliation of cash, cash equivalents, and restricted cash to the (In millions) We report our nancial results for our two reportable segments: Family of Apps (FoA) and Reality Labs (RL). FoA includes Facebook, Instagram, Messenger, WhatsApp, and other services. RL includes our virtual, augmented, and mixed reality related consumer hardware, software, and content. The following table presents our segment information of revenue and income (loss) from operations: Revenue: View original content to download multimedia:https://www.prnewswire.com/news-releases/meta-reports- second-quarter-2024-results-302211512.html')]\n",
            "-------------\n",
            "[Document(metadata={}, page_content='MENLO PARK, Calif., July 31, 2024 /PRNewswire/ -- Meta Platforms, Inc. (Nasdaq: META) today reported nancial results for the quarter ended June 30, 2024.'), Document(metadata={}, page_content='\"We had a strong quarter, and Meta AI is on track to be the most used AI assistant in the world by the end of the year,\" said Mark Zuckerberg, Meta founder and CEO. \"We\\'ve released the rst frontier-level open source AI model, we continue to see good traction with our Ray-Ban Meta AI glasses, and we\\'re driving good growth across our apps.\"'), Document(metadata={}, page_content='Average price per ad – Average price per ad increased by 10% year-over-year.'), Document(metadata={}, page_content='currency basis would have increased 23% year-over-year.'), Document(metadata={}, page_content='Costs and expenses – Total costs and expenses were $24.22 billion, an increase of 7% year-over-year.'), Document(metadata={}, page_content='Headcount – Headcount was 70,799 as of June 30, 2024, a decrease of 1% year-over-year.'), Document(metadata={}, page_content='We expect third quarter 2024 total revenue to be in the range of $38.5-41 billion. Our guidance assumes foreign currency is a 2% headwind to year-over-year total revenue growth, based on current exchange rates.'), Document(metadata={}, page_content='We expect full-year 2024 total expenses to be in the range of $96-99 billion, unchanged from our prior outlook. For Reality Labs, we continue to expect 2024 operating losses to increase meaningfully year-over-year due to our ongoing product development eorts and investments to further scale our ecosystem.'), Document(metadata={}, page_content='While we do not intend to provide any quantitative guidance for 2025 until the fourth quarter call, we expect infrastructure costs will be a signicant driver of expense growth next year as we recognize depreciation and operating costs associated with our expanded infrastructure footprint.'), Document(metadata={}, page_content='We anticipate our full-year 2024 capital expenditures will be in the range of $37-40 billion, updated from our prior range of $35-40 billion. While we continue to rene our plans for next year, we currently expect signicant capital expenditures growth in 2025 as we invest to support our articial intelligence research and product development eorts.'), Document(metadata={}, page_content='Absent any changes to our tax landscape, we expect our full-year 2024 tax rate to be in the mid-teens.'), Document(metadata={}, page_content='In addition, we continue to monitor an active regulatory landscape, including the increasing legal and regulatory headwinds in the EU and the U.S. that could signicantly impact our business and our nancial results.'), Document(metadata={}, page_content='Meta will host a conference call to discuss the results at 2:00 p.m. PT / 5:00 p.m. ET today. The live webcast of'), Document(metadata={}, page_content=\"Meta's earnings conference call can be accessed at the Meta Investor Relations website at investor.fb.com, along with the earnings press release, nancial tables, and slide presentation.\"), Document(metadata={}, page_content='Following the call, a replay will be available at the same website. Transcripts of conference calls with publishing equity research analysts held today will also be posted to the investor.fb.com website.'), Document(metadata={}, page_content=\"Meta uses the investor.fb.com and about.fb.com/news/ websites as well as Mark Zuckerberg's Facebook Page (facebook.com/zuck), Instagram account (instagram.com/zuck) and Threads prole (threads.net/zuck) as means of disclosing material non-public information and for complying with its disclosure obligations under Regulation FD.\"), Document(metadata={}, page_content='Meta builds technologies that help people connect, nd communities, and grow businesses. When Facebook launched in 2004, it changed the way people connect. Apps like Messenger, Instagram, and WhatsApp further empowered billions around the world. Now, Meta is moving beyond 2D screens toward immersive experiences like augmented and virtual reality to help build the next evolution in social technology.'), Document(metadata={}, page_content='investor@meta.com / investor.fb.com'), Document(metadata={}, page_content='Press:'), Document(metadata={}, page_content='press@meta.com / about.fb.com/news/'), Document(metadata={}, page_content='Forward-Looking Statements'), Document(metadata={}, page_content='This press release contains forward-looking statements regarding our future business plans and expectations. These forward-looking statements are only predictions and may dier materially from actual results due to a variety of factors including: the impact of macroeconomic conditions on our business and nancial results, including as a result of geopolitical events; our ability to retain or increase users and engagement levels; our reliance on advertising revenue; our dependency on data signals and mobile operating systems, networks, and standards that we do not control; changes to the content or application of third-party policies that impact our advertising practices; risks associated with new products and changes to existing products as well as other new business initiatives, including our articial intelligence initiatives and metaverse eorts; our emphasis on community growth and engagement and the user experience over short-term nancial results; maintaining and enhancing our brand and reputation; our ongoing privacy, safety, security, and content review eorts; competition; risks associated with government actions that could restrict access to our products or impair our ability to sell advertising in certain countries; litigation and government inquiries; privacy, legislative, and regulatory concerns or developments; risks associated with acquisitions; security breaches; our ability to manage our scale and geographically-dispersed operations; and market conditions or other factors aecting the payment of dividends. These and other potential risks and uncertainties that could cause actual results to dier from the results predicted are more fully detailed under the caption \"Risk Factors\" in our Quarterly Report on Form 10-Q led with the SEC on April 25, 2024, which is available on our Investor Relations website at investor.fb.com and on the SEC website at www.sec.gov. Additional information will also be set forth in our Quarterly Report on Form 10-Q for the quarter ended June 30, 2024. In addition, please note that the date of this press release is July 31, 2024, and any forward-looking statements contained herein are based on assumptions that we believe to be reasonable as of this date. We undertake no obligation to update these statements as a result of new information or future events.'), Document(metadata={}, page_content='For a discussion of limitations in the measurement of certain of our community metrics, see the section entitled \"Limitations of Key Metrics and Other Data\" in our most recent quarterly or annual report led with the SEC.'), Document(metadata={}, page_content='To supplement our condensed consolidated nancial statements, which are prepared and presented in accordance with generally accepted accounting principles in the United States (GAAP), we use the following non-GAAP nancial measures: revenue excluding foreign exchange eect, advertising revenue excluding foreign exchange eect, and free cash ow. The presentation of these nancial measures is not intended to be considered in isolation or as a substitute for, or superior to, nancial information prepared and presented in accordance with GAAP. Investors are cautioned that there are material limitations associated with the use of non-GAAP nancial measures as an analytical tool. In addition, these measures may be dierent from non-GAAP nancial measures used by other companies, limiting their usefulness for comparison purposes. We compensate for these limitations by providing specic information regarding the GAAP amounts excluded from these non-GAAP nancial measures.'), Document(metadata={}, page_content='We believe these non-GAAP nancial measures provide investors with useful supplemental information about the'), Document(metadata={}, page_content='nancial performance of our business, enable comparison of nancial results between periods where certain items may vary independent of business performance, and allow for greater transparency with respect to key metrics used by management in operating our business.'), Document(metadata={}, page_content='Our non-GAAP nancial measures are adjusted for the following items:'), Document(metadata={}, page_content=\"Foreign exchange eect on revenue. We translated revenue for the three and six months ended June 30, 2024 using the prior year's monthly exchange rates for our settlement or billing currencies other than the U.S. dollar, which we believe is a useful metric that facilitates comparison to our historical performance.\"), Document(metadata={}, page_content='Purchases of property and equipment; Principal payments on nance leases. We subtract both purchases of property and equipment, net of proceeds and principal payments on nance leases in our calculation of free cash ow because we believe that these two items collectively represent the amount of property and equipment we need to procure to support our business, regardless of whether we procure such property or equipment with a nance lease. We believe that this methodology can provide useful supplemental information to help investors better understand underlying trends in our business. Free cash ow is not intended to represent our residual cash ow available for discretionary expenditures.'), Document(metadata={}, page_content='For more information on our non-GAAP nancial measures and a reconciliation of GAAP to non-GAAP measures, please see the \"Reconciliation of GAAP to Non-GAAP Results\" table in this press release.'), Document(metadata={}, page_content='(Unaudited)'), Document(metadata={}, page_content='(1) The second quarter 2024 general and administrative expenses include a charge for the recent settlement with the State of Texas. The settlement amount is fully accrued as of June 30, 2024.'), Document(metadata={}, page_content='(In millions)'), Document(metadata={}, page_content='Accumulated other comprehensive loss'), Document(metadata={}, page_content='Retained earnings'), Document(metadata={}, page_content='(In millions)'), Document(metadata={}, page_content='Cash, cash equivalents, and restricted cash at end of the period'), Document(metadata={}, page_content='Reconciliation of cash, cash equivalents, and restricted cash to the'), Document(metadata={}, page_content='(In millions)'), Document(metadata={}, page_content='We report our nancial results for our two reportable segments: Family of Apps (FoA) and Reality Labs (RL). FoA includes Facebook, Instagram, Messenger, WhatsApp, and other services. RL includes our virtual, augmented, and mixed reality related consumer hardware, software, and content.'), Document(metadata={}, page_content='The following table presents our segment information of revenue and income (loss) from operations:'), Document(metadata={}, page_content='Revenue:'), Document(metadata={}, page_content='View original content to download multimedia:https://www.prnewswire.com/news-releases/meta-reports- second-quarter-2024-results-302211512.html')]\n",
            "43\n"
          ]
        }
      ]
    },
    {
      "cell_type": "code",
      "source": [
        "print(documents_dumb[0])"
      ],
      "metadata": {
        "colab": {
          "base_uri": "https://localhost:8080/"
        },
        "id": "ig4syrEFc9tU",
        "outputId": "ef0a5ea8-3ec5-4eaf-8458-82a0a433a828"
      },
      "execution_count": null,
      "outputs": [
        {
          "output_type": "stream",
          "name": "stdout",
          "text": [
            "page_content='MENLO PARK, Calif., July 31, 2024 /PRNewswire/ -- Meta Platforms, Inc. (Nasdaq: META) today reported nancial results for the quarter ended June 30, 2024.'\n"
          ]
        }
      ]
    },
    {
      "cell_type": "code",
      "source": [
        "%pip install weaviate-client>=3.26.7"
      ],
      "metadata": {
        "id": "Ja3fh4UVRJQ4"
      },
      "execution_count": null,
      "outputs": []
    },
    {
      "cell_type": "code",
      "source": [
        "from langchain.vectorstores import Weaviate\n",
        "import weaviate\n",
        "import weaviate.classes as wvc\n",
        "from weaviate.classes.init import Auth\n",
        "from weaviate.classes.config import Configure\n",
        "import weaviate.classes.config as wc"
      ],
      "metadata": {
        "id": "a4qzvbMpNxYt"
      },
      "execution_count": null,
      "outputs": []
    },
    {
      "cell_type": "code",
      "source": [
        "# Set these environment variables\n",
        "URL = userdata.get('WCD_URL')\n",
        "APIKEY = userdata.get(\"WCD_API_KEY\")\n",
        "\n",
        "\n",
        "# Connect to Weaviate Cloud\n",
        "# client = weaviate.connect_to_weaviate_cloud(\n",
        "#     cluster_url=URL,\n",
        "#     auth_credentials=wvc.init.Auth.api_key(APIKEY),\n",
        "#     headers={\"X-Cohere-Api-Key\": COHR_APIKEY},\n",
        "# )\n",
        "# client = weaviate.Client(\n",
        "#         url=URL,\n",
        "#         auth_client_secret=weaviate.AuthApiKey(api_key=APIKEY)\n",
        "#     )\n",
        "\n",
        "client = weaviate.connect_to_weaviate_cloud(\n",
        "    cluster_url=URL,  # Replace with your Weaviate Cloud URL\n",
        "    auth_credentials=Auth.api_key(APIKEY),  # Replace with your Weaviate Cloud key\n",
        "    headers={\"X-Cohere-Api-Key\": COHR_APIKEY}  # Replace with your OpenAI API key\n",
        ")\n",
        "# Check connection\n",
        "client.is_ready()"
      ],
      "metadata": {
        "colab": {
          "base_uri": "https://localhost:8080/"
        },
        "id": "uuzLR0eCw5Ei",
        "outputId": "356d5369-6982-45d4-fb65-d32f56c1b4b0"
      },
      "execution_count": null,
      "outputs": [
        {
          "output_type": "execute_result",
          "data": {
            "text/plain": [
              "True"
            ]
          },
          "metadata": {},
          "execution_count": 63
        }
      ]
    },
    {
      "cell_type": "code",
      "source": [
        "from weaviate.classes.config import Configure, Property, DataType, Tokenization"
      ],
      "metadata": {
        "id": "xmGYO2fNb-Xz"
      },
      "execution_count": null,
      "outputs": []
    },
    {
      "cell_type": "code",
      "source": [
        "client.collections.create(\n",
        "    \"Text_bd\",\n",
        "    vectorizer_config=Configure.Vectorizer.text2vec_cohere(\n",
        "        model=\"embed-multilingual-v2.0\",\n",
        "        vectorize_collection_name=True\n",
        "    ),\n",
        "    properties=[  # Define properties\n",
        "        Property(name=\"page_content\", data_type=DataType.TEXT),\n",
        "        Property(name=\"embe\", data_type=DataType.TEXT),\n",
        "    ],\n",
        ")\n",
        "\n"
      ],
      "metadata": {
        "colab": {
          "base_uri": "https://localhost:8080/"
        },
        "id": "oJS897PHOBpS",
        "outputId": "9dfddbbc-e03b-4bcb-8ec4-774b9fddc1b0"
      },
      "execution_count": null,
      "outputs": [
        {
          "output_type": "execute_result",
          "data": {
            "text/plain": [
              "<weaviate.collections.collection.sync.Collection at 0x7b30d90fe350>"
            ]
          },
          "metadata": {},
          "execution_count": 80
        }
      ]
    },
    {
      "cell_type": "code",
      "source": [
        "data_rows = []\n",
        "vectore =[]\n",
        "for i in range(len(documents_dumb)):\n",
        "    # Calculate embedding for each document in documents_dumb\n",
        "    embedding = embeddings.embed_query(documents_dumb[i].page_content)\n",
        "    # Change here: Append the embedding directly instead of nesting it in a list\n",
        "    vectore.append(embedding)\n",
        "    data_rows.append({\"page_content\": documents_dumb[i].page_content})\n",
        "\n",
        "collection = client.collections.get(\"Text_bd\")\n",
        "\n",
        "with collection.batch.dynamic() as batch:\n",
        "    for i, data_row in enumerate(data_rows):\n",
        "        batch.add_object(\n",
        "            properties=data_row,\n",
        "            vector=vectore[i] # Now vectore[i] contains the flat list of floats\n",
        "        )"
      ],
      "metadata": {
        "id": "6Qjr9DY0iJzN"
      },
      "execution_count": null,
      "outputs": []
    },
    {
      "cell_type": "code",
      "source": [
        "collection = client.collections.get(\"Text_bd\")\n",
        "\n",
        "for item in collection.iterator():\n",
        "    print(item.uuid, item.properties)"
      ],
      "metadata": {
        "colab": {
          "base_uri": "https://localhost:8080/"
        },
        "collapsed": true,
        "id": "-N-64-59iKcA",
        "outputId": "47c5217d-e1ad-45c2-d46c-3191fbb3c820"
      },
      "execution_count": null,
      "outputs": [
        {
          "output_type": "stream",
          "name": "stdout",
          "text": [
            "01feb187-b964-45e1-abec-a23d3a50cb7e {'embe': None, 'page_content': 'This press release contains forward-looking statements regarding our future business plans and expectations. These forward-looking statements are only predictions and may dier materially from actual results due to a variety of factors including: the impact of macroeconomic conditions on our business and nancial results, including as a result of geopolitical events; our ability to retain or increase users and engagement levels; our reliance on advertising revenue; our dependency on data signals and mobile operating systems, networks, and standards that we do not control; changes to the content or application of third-party policies that impact our advertising practices; risks associated with new products and changes to existing products as well as other new business initiatives, including our articial intelligence initiatives and metaverse eorts; our emphasis on community growth and engagement and the user experience over short-term nancial results; maintaining and enhancing our brand and reputation; our ongoing privacy, safety, security, and content review eorts; competition; risks associated with government actions that could restrict access to our products or impair our ability to sell advertising in certain countries; litigation and government inquiries; privacy, legislative, and regulatory concerns or developments; risks associated with acquisitions; security breaches; our ability to manage our scale and geographically-dispersed operations; and market conditions or other factors aecting the payment of dividends. These and other potential risks and uncertainties that could cause actual results to dier from the results predicted are more fully detailed under the caption \"Risk Factors\" in our Quarterly Report on Form 10-Q led with the SEC on April 25, 2024, which is available on our Investor Relations website at investor.fb.com and on the SEC website at www.sec.gov. Additional information will also be set forth in our Quarterly Report on Form 10-Q for the quarter ended June 30, 2024. In addition, please note that the date of this press release is July 31, 2024, and any forward-looking statements contained herein are based on assumptions that we believe to be reasonable as of this date. We undertake no obligation to update these statements as a result of new information or future events.'}\n",
            "064d5047-1a58-4ca6-821f-eecb6b54610a {'embe': None, 'page_content': '(In millions)'}\n",
            "0d9bcd49-e9ca-4d16-a924-e20b62c8ef56 {'embe': None, 'page_content': 'We expect third quarter 2024 total revenue to be in the range of $38.5-41 billion. Our guidance assumes foreign currency is a 2% headwind to year-over-year total revenue growth, based on current exchange rates.'}\n",
            "194f1346-31b2-4885-9468-9bb0d878f21f {'embe': None, 'page_content': 'Meta will host a conference call to discuss the results at 2:00 p.m. PT / 5:00 p.m. ET today. The live webcast of'}\n",
            "1dc247ed-5fbc-4abc-a537-6d67620d451a {'embe': None, 'page_content': 'Following the call, a replay will be available at the same website. Transcripts of conference calls with publishing equity research analysts held today will also be posted to the investor.fb.com website.'}\n",
            "1dd5a93e-465b-4f1a-8934-8f31920c2840 {'embe': None, 'page_content': '(Unaudited)'}\n",
            "207302a2-8299-40b8-a38a-22fc63605262 {'embe': None, 'page_content': 'Reconciliation of cash, cash equivalents, and restricted cash to the'}\n",
            "2127017c-14f8-449d-9fe8-60d93b5df740 {'embe': None, 'page_content': 'Press:'}\n",
            "23822ce1-6511-4912-8dfa-cbb545b9ad26 {'embe': None, 'page_content': '\"We had a strong quarter, and Meta AI is on track to be the most used AI assistant in the world by the end of the year,\" said Mark Zuckerberg, Meta founder and CEO. \"We\\'ve released the rst frontier-level open source AI model, we continue to see good traction with our Ray-Ban Meta AI glasses, and we\\'re driving good growth across our apps.\"'}\n",
            "295462c7-3884-45cc-b482-e255bf3a7539 {'embe': None, 'page_content': 'Average price per ad – Average price per ad increased by 10% year-over-year.'}\n",
            "2f119d4f-46ea-4f5b-a1a4-7e76624cd9a9 {'embe': None, 'page_content': 'press@meta.com / about.fb.com/news/'}\n",
            "2f4b9587-a41b-4f66-b5e5-821f245bdd89 {'embe': None, 'page_content': 'Meta builds technologies that help people connect, nd communities, and grow businesses. When Facebook launched in 2004, it changed the way people connect. Apps like Messenger, Instagram, and WhatsApp further empowered billions around the world. Now, Meta is moving beyond 2D screens toward immersive experiences like augmented and virtual reality to help build the next evolution in social technology.'}\n",
            "30968c82-bb60-4f38-83ad-9a043c2100a1 {'embe': None, 'page_content': 'We expect full-year 2024 total expenses to be in the range of $96-99 billion, unchanged from our prior outlook. For Reality Labs, we continue to expect 2024 operating losses to increase meaningfully year-over-year due to our ongoing product development eorts and investments to further scale our ecosystem.'}\n",
            "30e138bc-662a-4931-ad67-0476dfcf795c {'embe': None, 'page_content': 'MENLO PARK, Calif., July 31, 2024 /PRNewswire/ -- Meta Platforms, Inc. (Nasdaq: META) today reported nancial results for the quarter ended June 30, 2024.'}\n",
            "33a0d2f1-9240-4c9b-8eda-090235459e2a {'embe': None, 'page_content': 'While we do not intend to provide any quantitative guidance for 2025 until the fourth quarter call, we expect infrastructure costs will be a signicant driver of expense growth next year as we recognize depreciation and operating costs associated with our expanded infrastructure footprint.'}\n",
            "367476de-b231-48f9-a191-e85239114f91 {'embe': None, 'page_content': '\"We had a strong quarter, and Meta AI is on track to be the most used AI assistant in the world by the end of the year,\" said Mark Zuckerberg, Meta founder and CEO. \"We\\'ve released the rst frontier-level open source AI model, we continue to see good traction with our Ray-Ban Meta AI glasses, and we\\'re driving good growth across our apps.\"'}\n",
            "376aeaa6-159e-4e29-af3a-36105fc14abb {'embe': None, 'page_content': 'Absent any changes to our tax landscape, we expect our full-year 2024 tax rate to be in the mid-teens.'}\n",
            "3dfbf0a3-981b-4316-b9f8-734c9eecc957 {'embe': None, 'page_content': 'investor@meta.com / investor.fb.com'}\n",
            "3e981db2-7ed3-4071-9da6-d84ec7512924 {'embe': None, 'page_content': 'In addition, we continue to monitor an active regulatory landscape, including the increasing legal and regulatory headwinds in the EU and the U.S. that could signicantly impact our business and our nancial results.'}\n",
            "3fec3236-532d-48b8-bac3-776898ad863f {'embe': None, 'page_content': 'Cash, cash equivalents, and restricted cash at end of the period'}\n",
            "406d737d-08ef-459c-b238-bb307102d2bc {'embe': None, 'page_content': 'Meta builds technologies that help people connect, nd communities, and grow businesses. When Facebook launched in 2004, it changed the way people connect. Apps like Messenger, Instagram, and WhatsApp further empowered billions around the world. Now, Meta is moving beyond 2D screens toward immersive experiences like augmented and virtual reality to help build the next evolution in social technology.'}\n",
            "408f4d68-6d37-4421-81fb-9cedfd70c786 {'embe': None, 'page_content': 'For a discussion of limitations in the measurement of certain of our community metrics, see the section entitled \"Limitations of Key Metrics and Other Data\" in our most recent quarterly or annual report led with the SEC.'}\n",
            "4171915d-9ca9-41a0-af02-864a29d5c64e {'embe': None, 'page_content': 'We believe these non-GAAP nancial measures provide investors with useful supplemental information about the'}\n",
            "4ac46b89-994e-45f0-97ca-8e0ab0bfd547 {'embe': None, 'page_content': 'Our non-GAAP nancial measures are adjusted for the following items:'}\n",
            "4be27ef1-a676-40b3-9f57-5dba36f2f4f9 {'embe': None, 'page_content': 'The following table presents our segment information of revenue and income (loss) from operations:'}\n",
            "4f48ee5e-4406-4c1b-aa31-435c212ec6ce {'embe': None, 'page_content': '(1) The second quarter 2024 general and administrative expenses include a charge for the recent settlement with the State of Texas. The settlement amount is fully accrued as of June 30, 2024.'}\n",
            "4f8a638e-b7c9-4490-af50-063f25178af4 {'embe': None, 'page_content': 'Following the call, a replay will be available at the same website. Transcripts of conference calls with publishing equity research analysts held today will also be posted to the investor.fb.com website.'}\n",
            "5074f0d1-b653-4647-afb2-acbb055cfa66 {'embe': None, 'page_content': 'Our non-GAAP nancial measures are adjusted for the following items:'}\n",
            "52b768a3-c20b-4694-9d2f-46a837e4012a {'embe': None, 'page_content': 'For more information on our non-GAAP nancial measures and a reconciliation of GAAP to non-GAAP measures, please see the \"Reconciliation of GAAP to Non-GAAP Results\" table in this press release.'}\n",
            "5a60413a-ec18-4458-a9b5-dafd945fe90e {'embe': None, 'page_content': \"Foreign exchange eect on revenue. We translated revenue for the three and six months ended June 30, 2024 using the prior year's monthly exchange rates for our settlement or billing currencies other than the U.S. dollar, which we believe is a useful metric that facilitates comparison to our historical performance.\"}\n",
            "5cb063b5-0756-41ba-8bb0-43229f2cea68 {'embe': None, 'page_content': '(1) The second quarter 2024 general and administrative expenses include a charge for the recent settlement with the State of Texas. The settlement amount is fully accrued as of June 30, 2024.'}\n",
            "62890555-896f-4ab8-9877-396897bffe7a {'embe': None, 'page_content': '(In millions)'}\n",
            "63e192a8-4bf7-4906-be9c-5c2a56bf8cae {'embe': None, 'page_content': 'nancial performance of our business, enable comparison of nancial results between periods where certain items may vary independent of business performance, and allow for greater transparency with respect to key metrics used by management in operating our business.'}\n",
            "641aed73-5ab9-467f-957d-23cc225e9b24 {'embe': None, 'page_content': 'We report our nancial results for our two reportable segments: Family of Apps (FoA) and Reality Labs (RL). FoA includes Facebook, Instagram, Messenger, WhatsApp, and other services. RL includes our virtual, augmented, and mixed reality related consumer hardware, software, and content.'}\n",
            "64cd5f45-8137-4d8a-97ea-f121174eaea2 {'embe': None, 'page_content': \"Meta uses the investor.fb.com and about.fb.com/news/ websites as well as Mark Zuckerberg's Facebook Page (facebook.com/zuck), Instagram account (instagram.com/zuck) and Threads prole (threads.net/zuck) as means of disclosing material non-public information and for complying with its disclosure obligations under Regulation FD.\"}\n",
            "6545bf1a-4577-4fcc-b655-9a2034b42860 {'embe': None, 'page_content': 'We anticipate our full-year 2024 capital expenditures will be in the range of $37-40 billion, updated from our prior range of $35-40 billion. While we continue to rene our plans for next year, we currently expect signicant capital expenditures growth in 2025 as we invest to support our articial intelligence research and product development eorts.'}\n",
            "672fab2e-fe7e-4d40-9590-9429aac84551 {'embe': None, 'page_content': \"Meta's earnings conference call can be accessed at the Meta Investor Relations website at investor.fb.com, along with the earnings press release, nancial tables, and slide presentation.\"}\n",
            "68af3d6f-5086-45ad-b054-e197f84e0752 {'embe': None, 'page_content': 'We anticipate our full-year 2024 capital expenditures will be in the range of $37-40 billion, updated from our prior range of $35-40 billion. While we continue to rene our plans for next year, we currently expect signicant capital expenditures growth in 2025 as we invest to support our articial intelligence research and product development eorts.'}\n",
            "68cd8710-c304-458d-9984-5f57031f6eb1 {'embe': None, 'page_content': 'Revenue:'}\n",
            "72023fb1-71bb-4178-bf6c-a2d60b7369ac {'embe': None, 'page_content': 'Meta will host a conference call to discuss the results at 2:00 p.m. PT / 5:00 p.m. ET today. The live webcast of'}\n",
            "74e90f47-9391-4ced-a430-b0967444a005 {'embe': None, 'page_content': 'Accumulated other comprehensive loss'}\n",
            "78895b65-b209-4b49-8717-98eec41f5bad {'embe': None, 'page_content': 'Accumulated other comprehensive loss'}\n",
            "79d36504-4454-4f82-ac1b-c9a364738631 {'embe': None, 'page_content': 'Reconciliation of cash, cash equivalents, and restricted cash to the'}\n",
            "7a475be5-4ffb-4669-845e-cd9a01133459 {'embe': None, 'page_content': 'Forward-Looking Statements'}\n",
            "7c7b32c2-56c6-4fb1-a4d2-5b58b8a21090 {'embe': None, 'page_content': 'For a discussion of limitations in the measurement of certain of our community metrics, see the section entitled \"Limitations of Key Metrics and Other Data\" in our most recent quarterly or annual report led with the SEC.'}\n",
            "7cfa328d-29c0-419b-a829-c202cf95bb7a {'embe': None, 'page_content': 'Absent any changes to our tax landscape, we expect our full-year 2024 tax rate to be in the mid-teens.'}\n",
            "7d84a86a-aef1-4d94-a9ee-7a68a6230127 {'embe': None, 'page_content': 'Purchases of property and equipment; Principal payments on nance leases. We subtract both purchases of property and equipment, net of proceeds and principal payments on nance leases in our calculation of free cash ow because we believe that these two items collectively represent the amount of property and equipment we need to procure to support our business, regardless of whether we procure such property or equipment with a nance lease. We believe that this methodology can provide useful supplemental information to help investors better understand underlying trends in our business. Free cash ow is not intended to represent our residual cash ow available for discretionary expenditures.'}\n",
            "7fcc3087-1f1e-46a3-9e41-c5434802a05b {'embe': None, 'page_content': 'Retained earnings'}\n",
            "825f00e0-aec2-469e-9f4e-fa72ef1cbae4 {'embe': None, 'page_content': 'To supplement our condensed consolidated nancial statements, which are prepared and presented in accordance with generally accepted accounting principles in the United States (GAAP), we use the following non-GAAP nancial measures: revenue excluding foreign exchange eect, advertising revenue excluding foreign exchange eect, and free cash ow. The presentation of these nancial measures is not intended to be considered in isolation or as a substitute for, or superior to, nancial information prepared and presented in accordance with GAAP. Investors are cautioned that there are material limitations associated with the use of non-GAAP nancial measures as an analytical tool. In addition, these measures may be dierent from non-GAAP nancial measures used by other companies, limiting their usefulness for comparison purposes. We compensate for these limitations by providing specic information regarding the GAAP amounts excluded from these non-GAAP nancial measures.'}\n",
            "86ea58bf-5233-4968-a8fb-690402fbf61b {'embe': None, 'page_content': 'View original content to download multimedia:https://www.prnewswire.com/news-releases/meta-reports- second-quarter-2024-results-302211512.html'}\n",
            "8725f3f3-4604-4348-bbd4-69b276391b3f {'embe': None, 'page_content': 'investor@meta.com / investor.fb.com'}\n",
            "8984cb6c-2b22-4f6a-b480-fb557bf2c984 {'embe': None, 'page_content': '(In millions)'}\n",
            "8c584423-da3d-443c-b896-a77342cb0413 {'embe': None, 'page_content': 'While we do not intend to provide any quantitative guidance for 2025 until the fourth quarter call, we expect infrastructure costs will be a signicant driver of expense growth next year as we recognize depreciation and operating costs associated with our expanded infrastructure footprint.'}\n",
            "8edb7de2-94eb-45fc-a686-0149a944a5a5 {'embe': None, 'page_content': 'Costs and expenses – Total costs and expenses were $24.22 billion, an increase of 7% year-over-year.'}\n",
            "93212118-5b1c-49a9-9cc2-f6b1faeab09a {'embe': None, 'page_content': 'This press release contains forward-looking statements regarding our future business plans and expectations. These forward-looking statements are only predictions and may dier materially from actual results due to a variety of factors including: the impact of macroeconomic conditions on our business and nancial results, including as a result of geopolitical events; our ability to retain or increase users and engagement levels; our reliance on advertising revenue; our dependency on data signals and mobile operating systems, networks, and standards that we do not control; changes to the content or application of third-party policies that impact our advertising practices; risks associated with new products and changes to existing products as well as other new business initiatives, including our articial intelligence initiatives and metaverse eorts; our emphasis on community growth and engagement and the user experience over short-term nancial results; maintaining and enhancing our brand and reputation; our ongoing privacy, safety, security, and content review eorts; competition; risks associated with government actions that could restrict access to our products or impair our ability to sell advertising in certain countries; litigation and government inquiries; privacy, legislative, and regulatory concerns or developments; risks associated with acquisitions; security breaches; our ability to manage our scale and geographically-dispersed operations; and market conditions or other factors aecting the payment of dividends. These and other potential risks and uncertainties that could cause actual results to dier from the results predicted are more fully detailed under the caption \"Risk Factors\" in our Quarterly Report on Form 10-Q led with the SEC on April 25, 2024, which is available on our Investor Relations website at investor.fb.com and on the SEC website at www.sec.gov. Additional information will also be set forth in our Quarterly Report on Form 10-Q for the quarter ended June 30, 2024. In addition, please note that the date of this press release is July 31, 2024, and any forward-looking statements contained herein are based on assumptions that we believe to be reasonable as of this date. We undertake no obligation to update these statements as a result of new information or future events.'}\n",
            "951dd8c4-4e12-4d84-a182-483401bb58e6 {'embe': None, 'page_content': 'currency basis would have increased 23% year-over-year.'}\n",
            "9528ab84-d26b-49e6-affb-3eb8c34a19b9 {'embe': None, 'page_content': '(In millions)'}\n",
            "9eef12fc-a53b-4259-bec6-99fea9dff5f5 {'embe': None, 'page_content': 'Purchases of property and equipment; Principal payments on nance leases. We subtract both purchases of property and equipment, net of proceeds and principal payments on nance leases in our calculation of free cash ow because we believe that these two items collectively represent the amount of property and equipment we need to procure to support our business, regardless of whether we procure such property or equipment with a nance lease. We believe that this methodology can provide useful supplemental information to help investors better understand underlying trends in our business. Free cash ow is not intended to represent our residual cash ow available for discretionary expenditures.'}\n",
            "9fd900d8-2129-440b-9008-4b6f075632e2 {'embe': None, 'page_content': '(In millions)'}\n",
            "a5b06a4c-d531-425e-9c39-2caa8b27433e {'embe': None, 'page_content': 'View original content to download multimedia:https://www.prnewswire.com/news-releases/meta-reports- second-quarter-2024-results-302211512.html'}\n",
            "a9e7e2e3-1d73-4a9b-ad24-fbe4342d2c9d {'embe': None, 'page_content': 'We report our nancial results for our two reportable segments: Family of Apps (FoA) and Reality Labs (RL). FoA includes Facebook, Instagram, Messenger, WhatsApp, and other services. RL includes our virtual, augmented, and mixed reality related consumer hardware, software, and content.'}\n",
            "b0f34923-e035-4c0b-b533-e1691d0351df {'embe': None, 'page_content': 'For more information on our non-GAAP nancial measures and a reconciliation of GAAP to non-GAAP measures, please see the \"Reconciliation of GAAP to Non-GAAP Results\" table in this press release.'}\n",
            "b4abac3b-807a-4a0b-88a5-d4052acc90aa {'embe': None, 'page_content': 'MENLO PARK, Calif., July 31, 2024 /PRNewswire/ -- Meta Platforms, Inc. (Nasdaq: META) today reported nancial results for the quarter ended June 30, 2024.'}\n",
            "b5a0e220-e965-4367-bb51-6efed9b55e48 {'embe': None, 'page_content': 'nancial performance of our business, enable comparison of nancial results between periods where certain items may vary independent of business performance, and allow for greater transparency with respect to key metrics used by management in operating our business.'}\n",
            "b6782797-4393-44bf-a7a3-aa2006399612 {'embe': None, 'page_content': 'Headcount – Headcount was 70,799 as of June 30, 2024, a decrease of 1% year-over-year.'}\n",
            "bd3fa08d-afb9-4a30-a814-14a693dde9b7 {'embe': None, 'page_content': 'We expect third quarter 2024 total revenue to be in the range of $38.5-41 billion. Our guidance assumes foreign currency is a 2% headwind to year-over-year total revenue growth, based on current exchange rates.'}\n",
            "c1b0e082-1660-4607-aa7d-4bcae347b60d {'embe': None, 'page_content': '(In millions)'}\n",
            "c6d5f0ee-38e8-441f-9945-7dfee2ff4e31 {'embe': None, 'page_content': 'Costs and expenses – Total costs and expenses were $24.22 billion, an increase of 7% year-over-year.'}\n",
            "c9d5c4bd-1b7d-40eb-89b2-26f1f47aa8b3 {'embe': None, 'page_content': 'Revenue:'}\n",
            "cb0dc8ca-92a7-4d68-8f8c-45347808518a {'embe': None, 'page_content': 'We believe these non-GAAP nancial measures provide investors with useful supplemental information about the'}\n",
            "cb82802a-1a8e-4030-9d5a-05f4e2d22e70 {'embe': None, 'page_content': \"Foreign exchange eect on revenue. We translated revenue for the three and six months ended June 30, 2024 using the prior year's monthly exchange rates for our settlement or billing currencies other than the U.S. dollar, which we believe is a useful metric that facilitates comparison to our historical performance.\"}\n",
            "ce125e94-87e4-45f4-ae54-5a432dd4d1c3 {'embe': None, 'page_content': 'press@meta.com / about.fb.com/news/'}\n",
            "d881f2a4-1ea5-41f4-bc16-27d28e623d08 {'embe': None, 'page_content': 'In addition, we continue to monitor an active regulatory landscape, including the increasing legal and regulatory headwinds in the EU and the U.S. that could signicantly impact our business and our nancial results.'}\n",
            "d919a768-1008-4b66-b2ce-312a7639104b {'embe': None, 'page_content': 'Average price per ad – Average price per ad increased by 10% year-over-year.'}\n",
            "e12f2458-5afe-4db1-a7a0-1977fee6c8e2 {'embe': None, 'page_content': 'Forward-Looking Statements'}\n",
            "e6003d2c-6c34-4915-a8af-e6ebf670f920 {'embe': None, 'page_content': 'The following table presents our segment information of revenue and income (loss) from operations:'}\n",
            "e874ec37-3e30-4a6a-99cb-1aa0b9791b3b {'embe': None, 'page_content': 'currency basis would have increased 23% year-over-year.'}\n",
            "ea000d00-0d69-4798-adb0-1430c8f8be6f {'embe': None, 'page_content': '(Unaudited)'}\n",
            "eba08c2e-eed7-45cc-a4b3-0ef802f2da9e {'embe': None, 'page_content': 'We expect full-year 2024 total expenses to be in the range of $96-99 billion, unchanged from our prior outlook. For Reality Labs, we continue to expect 2024 operating losses to increase meaningfully year-over-year due to our ongoing product development eorts and investments to further scale our ecosystem.'}\n",
            "ee919173-4f05-4d96-b5c7-dddbbbf09ebb {'embe': None, 'page_content': \"Meta uses the investor.fb.com and about.fb.com/news/ websites as well as Mark Zuckerberg's Facebook Page (facebook.com/zuck), Instagram account (instagram.com/zuck) and Threads prole (threads.net/zuck) as means of disclosing material non-public information and for complying with its disclosure obligations under Regulation FD.\"}\n",
            "f50fa4ae-a913-4cd0-9cb7-218f825bd4b5 {'embe': None, 'page_content': 'To supplement our condensed consolidated nancial statements, which are prepared and presented in accordance with generally accepted accounting principles in the United States (GAAP), we use the following non-GAAP nancial measures: revenue excluding foreign exchange eect, advertising revenue excluding foreign exchange eect, and free cash ow. The presentation of these nancial measures is not intended to be considered in isolation or as a substitute for, or superior to, nancial information prepared and presented in accordance with GAAP. Investors are cautioned that there are material limitations associated with the use of non-GAAP nancial measures as an analytical tool. In addition, these measures may be dierent from non-GAAP nancial measures used by other companies, limiting their usefulness for comparison purposes. We compensate for these limitations by providing specic information regarding the GAAP amounts excluded from these non-GAAP nancial measures.'}\n",
            "f5b8d149-f30d-49f3-8775-8b5868db3bf4 {'embe': None, 'page_content': \"Meta's earnings conference call can be accessed at the Meta Investor Relations website at investor.fb.com, along with the earnings press release, nancial tables, and slide presentation.\"}\n",
            "f7c4170e-4e88-4d7a-9f29-f8dd3fd7cde9 {'embe': None, 'page_content': 'Press:'}\n",
            "f8c8bfe4-8392-47a1-a6e6-e61c9cba4a38 {'embe': None, 'page_content': 'Headcount – Headcount was 70,799 as of June 30, 2024, a decrease of 1% year-over-year.'}\n",
            "f9720760-7535-4a16-9f42-b9c85d297454 {'embe': None, 'page_content': 'Cash, cash equivalents, and restricted cash at end of the period'}\n",
            "fb5c75ca-8a6b-4743-80e3-632862fb06c8 {'embe': None, 'page_content': 'Retained earnings'}\n"
          ]
        }
      ]
    },
    {
      "cell_type": "code",
      "source": [
        "from weaviate.classes.query import MetadataQuery\n",
        "user_query = \"what is Headcount in June 30, 2024\" #user query\n",
        "\n",
        "query_vector = embeddings.embed_query(user_query)\n",
        "\n",
        "collection = client.collections.get(\"Text_bd\")\n",
        "response = collection.query.near_vector(\n",
        "    near_vector=query_vector, # your query vector goes here\n",
        "    limit=2,\n",
        "    return_metadata=MetadataQuery(distance=True)\n",
        ")"
      ],
      "metadata": {
        "colab": {
          "base_uri": "https://localhost:8080/"
        },
        "id": "hJG2yM3ykLzl",
        "outputId": "94fc1546-b306-486b-bd32-427fb529822a"
      },
      "execution_count": null,
      "outputs": [
        {
          "output_type": "stream",
          "name": "stderr",
          "text": [
            "INFO:weaviate-client:Searching in collection Text_bd received exception: <AioRpcError of RPC that terminated with:\n",
            "\tstatus = StatusCode.UNAVAILABLE\n",
            "\tdetails = \"recvmsg:Connection reset by peer\"\n",
            "\tdebug_error_string = \"UNKNOWN:Error received from peer  {grpc_message:\"recvmsg:Connection reset by peer\", grpc_status:14, created_time:\"2025-01-06T09:24:17.465439622+00:00\"}\"\n",
            ">. Retrying with exponential backoff in 1 seconds\n"
          ]
        }
      ]
    },
    {
      "cell_type": "code",
      "source": [
        "for o in response.objects:\n",
        "    print(type(o))\n",
        "    print(o.properties[\"page_content\"])\n",
        "    print(o.metadata.distance)"
      ],
      "metadata": {
        "colab": {
          "base_uri": "https://localhost:8080/"
        },
        "id": "071MRBVMlKcV",
        "outputId": "2cbb4e6f-59a1-43b6-8fe3-af01f6c61379"
      },
      "execution_count": null,
      "outputs": [
        {
          "output_type": "stream",
          "name": "stdout",
          "text": [
            "<class 'weaviate.collections.classes.internal.Object'>\n",
            "Headcount – Headcount was 70,799 as of June 30, 2024, a decrease of 1% year-over-year.\n",
            "0.3172529935836792\n",
            "<class 'weaviate.collections.classes.internal.Object'>\n",
            "Headcount – Headcount was 70,799 as of June 30, 2024, a decrease of 1% year-over-year.\n",
            "0.3172529935836792\n"
          ]
        }
      ]
    },
    {
      "cell_type": "code",
      "source": [
        "o.properties[\"page_content\"]"
      ],
      "metadata": {
        "colab": {
          "base_uri": "https://localhost:8080/",
          "height": 54
        },
        "id": "2qjc8e9W1tfC",
        "outputId": "372fb533-72e2-45d4-88ed-c97f7cdda54a"
      },
      "execution_count": null,
      "outputs": [
        {
          "output_type": "execute_result",
          "data": {
            "text/plain": [
              "'Headcount – Headcount was 70,799 as of June 30, 2024, a decrease of 1% year-over-year.'"
            ],
            "application/vnd.google.colaboratory.intrinsic+json": {
              "type": "string"
            }
          },
          "metadata": {},
          "execution_count": 133
        }
      ]
    },
    {
      "cell_type": "code",
      "source": [
        "context = o.properties[\"page_content\"]"
      ],
      "metadata": {
        "id": "0XDQnSH3mbdz"
      },
      "execution_count": null,
      "outputs": []
    },
    {
      "cell_type": "code",
      "source": [
        "context"
      ],
      "metadata": {
        "colab": {
          "base_uri": "https://localhost:8080/",
          "height": 54
        },
        "id": "fAqeVGj5mbbN",
        "outputId": "65238ac9-6d1d-4b77-b78e-1bfdac510069"
      },
      "execution_count": null,
      "outputs": [
        {
          "output_type": "execute_result",
          "data": {
            "text/plain": [
              "'Headcount – Headcount was 70,799 as of June 30, 2024, a decrease of 1% year-over-year.'"
            ],
            "application/vnd.google.colaboratory.intrinsic+json": {
              "type": "string"
            }
          },
          "metadata": {},
          "execution_count": 137
        }
      ]
    },
    {
      "cell_type": "code",
      "source": [
        "prompt = f\"\"\"\n",
        "Use the information provided below to answer the questions at the end. If the answer to the question is not contained in the provided information, say \"The answer is not in the context\".\n",
        "---\n",
        "Context information:\n",
        "{context}\n",
        "---\n",
        "Question: {user_query}\n",
        "\"\"\""
      ],
      "metadata": {
        "id": "75r21c9ZmbYg"
      },
      "execution_count": null,
      "outputs": []
    },
    {
      "cell_type": "code",
      "source": [
        "prompt"
      ],
      "metadata": {
        "colab": {
          "base_uri": "https://localhost:8080/",
          "height": 108
        },
        "id": "r4Lyj4TymbVW",
        "outputId": "07eabe26-0c83-4152-d796-71ead84408e4"
      },
      "execution_count": null,
      "outputs": [
        {
          "output_type": "execute_result",
          "data": {
            "text/plain": [
              "'\\nUse the information provided below to answer the questions at the end. If the answer to the question is not contained in the provided information, say \"The answer is not in the context\".\\n---\\nContext information:\\nHeadcount – Headcount was 70,799 as of June 30, 2024, a decrease of 1% year-over-year.\\n---\\nQuestion: what is Headcount in June 30, 2024\\n'"
            ],
            "application/vnd.google.colaboratory.intrinsic+json": {
              "type": "string"
            }
          },
          "metadata": {},
          "execution_count": 139
        }
      ]
    },
    {
      "cell_type": "code",
      "source": [
        "# prediction_with_search = llm.generate(\n",
        "#     messages=[{\"role\": \"user\", \"content\": \"why\"}], # Pass prompt as a message\n",
        "#     num_generations=5,\n",
        "#     max_tokens=50,\n",
        "# )\n"
      ],
      "metadata": {
        "id": "a-BJC7M1mbL0"
      },
      "execution_count": null,
      "outputs": []
    },
    {
      "cell_type": "code",
      "source": [
        "res = llm.invoke(prompt)"
      ],
      "metadata": {
        "id": "hwYfBlyT5zXQ"
      },
      "execution_count": null,
      "outputs": []
    },
    {
      "cell_type": "code",
      "source": [
        "print(res.content)"
      ],
      "metadata": {
        "colab": {
          "base_uri": "https://localhost:8080/"
        },
        "id": "HYg3Ddll66Sq",
        "outputId": "86eb9696-78b2-434c-b718-446f394f11c0"
      },
      "execution_count": null,
      "outputs": [
        {
          "output_type": "stream",
          "name": "stdout",
          "text": [
            "The headcount was 70,799 as of June 30, 2024.\n"
          ]
        }
      ]
    },
    {
      "cell_type": "code",
      "source": [],
      "metadata": {
        "id": "JiJEQ3_c77GB"
      },
      "execution_count": null,
      "outputs": []
    }
  ]
}